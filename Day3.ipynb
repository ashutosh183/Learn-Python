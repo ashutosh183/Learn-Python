{
 "cells": [
  {
   "cell_type": "markdown",
   "id": "ce167f59-1924-41bf-8250-bb2746cd0c21",
   "metadata": {},
   "source": [
    "## DAY-3 learnings"
   ]
  },
  {
   "cell_type": "markdown",
   "id": "9560d4f9-c368-486f-8a84-ded9d7f82c1c",
   "metadata": {},
   "source": [
    "### LOGICAL GATES\n",
    "\n",
    "* AND\n",
    "* OR\n",
    "* NOT"
   ]
  },
  {
   "cell_type": "code",
   "execution_count": 114,
   "id": "78aa63fa-0a2a-4e97-aedf-878d6f0a9129",
   "metadata": {},
   "outputs": [
    {
     "name": "stdout",
     "output_type": "stream",
     "text": [
      "False\n",
      "False\n",
      "False\n",
      "True\n"
     ]
    }
   ],
   "source": [
    "# AND GATE\n",
    "\n",
    "print(True and False)\n",
    "print(False and True)\n",
    "print(False and False)\n",
    "print(True and True)"
   ]
  },
  {
   "cell_type": "code",
   "execution_count": 115,
   "id": "9edd6998-b9d6-4e55-8fc3-1170ee5292ed",
   "metadata": {},
   "outputs": [
    {
     "name": "stdout",
     "output_type": "stream",
     "text": [
      "True\n",
      "True\n",
      "False\n",
      "True\n"
     ]
    }
   ],
   "source": [
    "# OR GATE\n",
    "\n",
    "print(True or False)\n",
    "print(False or True)\n",
    "print(False or False)\n",
    "print(True or True)"
   ]
  },
  {
   "cell_type": "code",
   "execution_count": 116,
   "id": "7553eac0-6639-430b-8a25-950acb5c76c6",
   "metadata": {},
   "outputs": [
    {
     "name": "stdout",
     "output_type": "stream",
     "text": [
      "False\n",
      "True\n"
     ]
    }
   ],
   "source": [
    "# NOT GATE\n",
    "\n",
    "print(not True)\n",
    "print(not False)"
   ]
  },
  {
   "cell_type": "markdown",
   "id": "6a062d05-b738-4bef-99de-b330685c7ed0",
   "metadata": {},
   "source": [
    "* AND -> becomes false if any of the value is false. Only becomes true when both are true\n",
    "* OR -> becomes true if any of the value is true. Only becomes false when both are false\n",
    "* NOT -> toggles the value from true to false and vice versa"
   ]
  },
  {
   "cell_type": "code",
   "execution_count": 117,
   "id": "d650d8ff-4369-4fed-ba4c-1de506742896",
   "metadata": {},
   "outputs": [
    {
     "name": "stdout",
     "output_type": "stream",
     "text": [
      "The boolean value of 0 is False\n",
      "The boolean value of 1 is True\n",
      "The not value of 0 is True\n",
      "The not value of 1 is True\n"
     ]
    }
   ],
   "source": [
    "zero = 0\n",
    "one = 1\n",
    "\n",
    "print('The boolean value of {} is {}'.format(zero, bool(zero)))\n",
    "print('The boolean value of {} is {}'.format(one, bool(one)))\n",
    "print('The not value of {} is {}'.format(zero, not(zero)))\n",
    "print('The not value of {} is {}'.format(one, bool(one)))"
   ]
  },
  {
   "cell_type": "code",
   "execution_count": 118,
   "id": "59ad7468-4fde-4a77-a94d-eb4ba2f5b354",
   "metadata": {},
   "outputs": [
    {
     "name": "stdout",
     "output_type": "stream",
     "text": [
      "The boolean value of 5 is True\n",
      "The boolean value of -5 is True\n",
      "The not value of -5 is False\n",
      "The not value of 5 is False\n"
     ]
    }
   ],
   "source": [
    "# Boolean values of positive and negative integer\n",
    "\n",
    "positive_value = 5\n",
    "negative_value = -5\n",
    "\n",
    "print('The boolean value of {} is {}'.format(positive_value, bool(positive_value)))\n",
    "print('The boolean value of {} is {}'.format(negative_value, bool(negative_value)))\n",
    "print('The not value of {} is {}'.format(negative_value, not(negative_value)))\n",
    "print('The not value of {} is {}'.format(positive_value, not(positive_value)))\n",
    "\n"
   ]
  },
  {
   "cell_type": "code",
   "execution_count": 119,
   "id": "e6c1acf2-f4e1-4e95-91b1-773529fd1093",
   "metadata": {},
   "outputs": [
    {
     "data": {
      "text/plain": [
       "0"
      ]
     },
     "execution_count": 119,
     "metadata": {},
     "output_type": "execute_result"
    }
   ],
   "source": [
    "False * False"
   ]
  },
  {
   "cell_type": "code",
   "execution_count": 120,
   "id": "f338538c-81da-4b91-87e4-f26836aaf067",
   "metadata": {},
   "outputs": [
    {
     "data": {
      "text/plain": [
       "0"
      ]
     },
     "execution_count": 120,
     "metadata": {},
     "output_type": "execute_result"
    }
   ],
   "source": [
    "False * True"
   ]
  },
  {
   "cell_type": "code",
   "execution_count": 121,
   "id": "060e1c94-ed1c-4b65-aa99-b4fe1b7a3f91",
   "metadata": {},
   "outputs": [
    {
     "data": {
      "text/plain": [
       "0"
      ]
     },
     "execution_count": 121,
     "metadata": {},
     "output_type": "execute_result"
    }
   ],
   "source": [
    "True * False"
   ]
  },
  {
   "cell_type": "code",
   "execution_count": 122,
   "id": "7ee9640f-85c3-4b1c-a1f1-960b399eaeb5",
   "metadata": {},
   "outputs": [
    {
     "data": {
      "text/plain": [
       "1"
      ]
     },
     "execution_count": 122,
     "metadata": {},
     "output_type": "execute_result"
    }
   ],
   "source": [
    "True * True"
   ]
  },
  {
   "cell_type": "code",
   "execution_count": 123,
   "id": "992c91af-ca99-4c5c-a433-27669ca5e52e",
   "metadata": {},
   "outputs": [
    {
     "data": {
      "text/plain": [
       "True"
      ]
     },
     "execution_count": 123,
     "metadata": {},
     "output_type": "execute_result"
    }
   ],
   "source": [
    "not False * True == True # Always the multiplication takes place first"
   ]
  },
  {
   "cell_type": "code",
   "execution_count": 124,
   "id": "4e7d0119-2523-4ac4-9827-b2128d3a147a",
   "metadata": {},
   "outputs": [
    {
     "data": {
      "text/plain": [
       "1"
      ]
     },
     "execution_count": 124,
     "metadata": {},
     "output_type": "execute_result"
    }
   ],
   "source": [
    "(not(False)) * True"
   ]
  },
  {
   "cell_type": "code",
   "execution_count": 125,
   "id": "3b69a6d8-d7bc-4d5e-af88-18e395221490",
   "metadata": {},
   "outputs": [
    {
     "data": {
      "text/plain": [
       "9.2"
      ]
     },
     "execution_count": 125,
     "metadata": {},
     "output_type": "execute_result"
    }
   ],
   "source": [
    "(2*3+40)/5"
   ]
  },
  {
   "cell_type": "code",
   "execution_count": 126,
   "id": "89ea7a12-f955-4a1c-8f03-69c822625514",
   "metadata": {},
   "outputs": [
    {
     "data": {
      "text/plain": [
       "1.0"
      ]
     },
     "execution_count": 126,
     "metadata": {},
     "output_type": "execute_result"
    }
   ],
   "source": [
    "(False * False + True) / True"
   ]
  },
  {
   "cell_type": "markdown",
   "id": "05440d89-08a0-4361-9307-f0f587f69556",
   "metadata": {},
   "source": [
    "### EQUALITY OPERATORS\n",
    "\n",
    "* is -> compares object\n",
    "* is not -> compares object\n",
    "* == -> compares elements\n",
    "* != -> compares elements"
   ]
  },
  {
   "cell_type": "code",
   "execution_count": 127,
   "id": "e6ab04d6-d7e1-4ea5-876e-6e59b9a1abf8",
   "metadata": {},
   "outputs": [
    {
     "name": "stdout",
     "output_type": "stream",
     "text": [
      "False\n",
      "False\n",
      "True\n",
      "False\n"
     ]
    }
   ],
   "source": [
    "lst_a = ['a', 'b', 'c', 'd']\n",
    "lst_b = ['a', 'b', 'c', 'd']\n",
    "print(lst_a is lst_b)\n",
    "\n",
    "lst_c = lst_a\n",
    "print(lst_c is not lst_a)\n",
    "\n",
    "print(lst_a == lst_b)\n",
    "print(lst_c != lst_a)"
   ]
  },
  {
   "cell_type": "code",
   "execution_count": 128,
   "id": "17d8d39b-2421-496d-ba30-94d64f6fe346",
   "metadata": {},
   "outputs": [
    {
     "name": "stdout",
     "output_type": "stream",
     "text": [
      "139865221022784\n",
      "139865222395072\n",
      "139865221022784\n"
     ]
    }
   ],
   "source": [
    "print(id(lst_a))\n",
    "print(id(lst_b))\n",
    "print(id(lst_c))"
   ]
  },
  {
   "cell_type": "code",
   "execution_count": 129,
   "id": "a0585694-eb6f-4376-a954-23f8e06cdebb",
   "metadata": {},
   "outputs": [],
   "source": [
    "str1 = 'Ashutosh'\n",
    "str2 = 'Ashutosh'"
   ]
  },
  {
   "cell_type": "code",
   "execution_count": 130,
   "id": "50ae41fe-7b6f-489b-b7c9-14deedd7c332",
   "metadata": {},
   "outputs": [
    {
     "name": "stdout",
     "output_type": "stream",
     "text": [
      "139865221106352\n",
      "139865221106352\n"
     ]
    }
   ],
   "source": [
    "print(id(str1))\n",
    "print(id(str2))"
   ]
  },
  {
   "cell_type": "code",
   "execution_count": 131,
   "id": "4f1b5e98-499a-4652-be92-80625ba670eb",
   "metadata": {},
   "outputs": [
    {
     "name": "stdout",
     "output_type": "stream",
     "text": [
      "Buggati is faster than Koneigsegg False\n"
     ]
    }
   ],
   "source": [
    "speed_of_buggati = 300\n",
    "speed_of_koneigsegg = 400\n",
    "\n",
    "print('Buggati is faster than Koneigsegg {}'.format(speed_of_buggati >= speed_of_koneigsegg))"
   ]
  },
  {
   "cell_type": "markdown",
   "id": "11082281-4fd4-48b6-b04f-c0906b57edf3",
   "metadata": {},
   "source": [
    "### ARITHMETIC OPERATORS\n",
    "\n",
    "1 (+) -> add. It's add two numbers\n",
    "\n",
    "2  (*) -> multiply -> It multiply two numbers\n",
    "\n",
    "3  (/) -> quotient -> It gives the quotient in float\n",
    "\n",
    "4  (//) -> remainder -> It gives the remainder in integer\n",
    "\n",
    "5  (%) -> modulo -> It gives us the remainder"
   ]
  },
  {
   "cell_type": "code",
   "execution_count": 132,
   "id": "89a20072-17ca-47cc-b122-73260946d247",
   "metadata": {},
   "outputs": [
    {
     "name": "stdout",
     "output_type": "stream",
     "text": [
      "100\n",
      "900\n",
      "0.1111111111111111\n",
      "0\n",
      "10\n"
     ]
    }
   ],
   "source": [
    "a = 10\n",
    "b = 90\n",
    "\n",
    "# Addition\n",
    "print(a + b)\n",
    "\n",
    "# Multiplication\n",
    "print(a * b)\n",
    "\n",
    "# Division(Float)\n",
    "print(a / b)\n",
    "\n",
    "# Division(Integer)\n",
    "print(a // b)\n",
    "\n",
    "# Modulo\n",
    "print(a % b)"
   ]
  },
  {
   "cell_type": "markdown",
   "id": "06f03d1e-32e0-4901-a5ac-d8528a8a91b1",
   "metadata": {},
   "source": [
    "### BITWISE OPERATORS\n",
    "\n",
    "* (~)  Unary Operator\n",
    "* (&)  Binary AND\n",
    "* (|)  Binary OR\n",
    "* (<<) Bitwise left shift\n",
    "* (>>) Bitwise right shift"
   ]
  },
  {
   "cell_type": "code",
   "execution_count": 133,
   "id": "0b393efe-afbb-4eb3-acf9-dd728e0190f9",
   "metadata": {},
   "outputs": [
    {
     "data": {
      "text/plain": [
       "'0b1010'"
      ]
     },
     "execution_count": 133,
     "metadata": {},
     "output_type": "execute_result"
    }
   ],
   "source": [
    "# Print binary of numbers\n",
    "\n",
    "var = 10\n",
    "\n",
    "bin(var)"
   ]
  },
  {
   "cell_type": "code",
   "execution_count": 134,
   "id": "1edfe6c4-e11a-4bb5-98b7-220e73a14110",
   "metadata": {},
   "outputs": [
    {
     "name": "stdout",
     "output_type": "stream",
     "text": [
      "-11\n",
      "-4\n"
     ]
    }
   ],
   "source": [
    "# ~ prints the 2s complement of a number\n",
    "print(~var)\n",
    "print(~3)"
   ]
  },
  {
   "cell_type": "code",
   "execution_count": 135,
   "id": "6e4c163e-6cc9-4038-87c9-5250efaabc8f",
   "metadata": {},
   "outputs": [
    {
     "data": {
      "text/plain": [
       "4"
      ]
     },
     "execution_count": 135,
     "metadata": {},
     "output_type": "execute_result"
    }
   ],
   "source": [
    "# And of 2 numbers\n",
    "\n",
    "a = 5\n",
    "b = 4\n",
    "\n",
    "a & b"
   ]
  },
  {
   "cell_type": "code",
   "execution_count": 136,
   "id": "6e304231-d166-4135-a205-0a94d6204f07",
   "metadata": {},
   "outputs": [
    {
     "data": {
      "text/plain": [
       "5"
      ]
     },
     "execution_count": 136,
     "metadata": {},
     "output_type": "execute_result"
    }
   ],
   "source": [
    "# OR of two numbers\n",
    "a = 5\n",
    "b = 4\n",
    "\n",
    "a | b"
   ]
  },
  {
   "cell_type": "code",
   "execution_count": 137,
   "id": "6bd0f3cd-66d8-4e91-9c88-7659cfbd0531",
   "metadata": {},
   "outputs": [
    {
     "data": {
      "text/plain": [
       "2"
      ]
     },
     "execution_count": 137,
     "metadata": {},
     "output_type": "execute_result"
    }
   ],
   "source": [
    "# RIGHT shift operator\n",
    "# It is also called as reducing the number by 2\n",
    "# shifts all the bits to right by n position and add msb by n times at left hand\n",
    "a >> 1"
   ]
  },
  {
   "cell_type": "code",
   "execution_count": 138,
   "id": "6cfad435-e9bc-45f1-a8c3-80e8092401ae",
   "metadata": {},
   "outputs": [
    {
     "data": {
      "text/plain": [
       "10"
      ]
     },
     "execution_count": 138,
     "metadata": {},
     "output_type": "execute_result"
    }
   ],
   "source": [
    "# LEFT shift operator\n",
    "# It is also called as increasing the number by 2\n",
    "# shifts all the bits to left by n position and add 0 by n times at the right hand\n",
    "a << 1"
   ]
  },
  {
   "cell_type": "markdown",
   "id": "f05b20a4-ba0e-4888-8a7c-8e4c4c966216",
   "metadata": {},
   "source": [
    "### STRINGS"
   ]
  },
  {
   "cell_type": "raw",
   "id": "b8e379c1-05ed-459e-b868-6b239c22779b",
   "metadata": {},
   "source": [
    "Strings can be defined in '' or \"\""
   ]
  },
  {
   "cell_type": "code",
   "execution_count": 139,
   "id": "d61b8aa9-e474-4709-944b-81c582bbcf6e",
   "metadata": {},
   "outputs": [],
   "source": [
    "s = 'Let\\'s Learn Python For Data Science' "
   ]
  },
  {
   "cell_type": "code",
   "execution_count": 140,
   "id": "3223f068-3496-4e17-9658-f826350b4e8e",
   "metadata": {},
   "outputs": [
    {
     "data": {
      "text/plain": [
       "str"
      ]
     },
     "execution_count": 140,
     "metadata": {},
     "output_type": "execute_result"
    }
   ],
   "source": [
    "type(s)"
   ]
  },
  {
   "cell_type": "code",
   "execution_count": 141,
   "id": "080696b5-e677-45c0-bc20-d7407f6f6b3e",
   "metadata": {},
   "outputs": [
    {
     "ename": "TypeError",
     "evalue": "'str' object does not support item assignment",
     "output_type": "error",
     "traceback": [
      "\u001b[0;31m---------------------------------------------------------------------------\u001b[0m",
      "\u001b[0;31mTypeError\u001b[0m                                 Traceback (most recent call last)",
      "Cell \u001b[0;32mIn[141], line 1\u001b[0m\n\u001b[0;32m----> 1\u001b[0m \u001b[43ms\u001b[49m\u001b[43m[\u001b[49m\u001b[38;5;241;43m0\u001b[39;49m\u001b[43m]\u001b[49m \u001b[38;5;241m=\u001b[39m \u001b[38;5;124m'\u001b[39m\u001b[38;5;124mT\u001b[39m\u001b[38;5;124m'\u001b[39m\n",
      "\u001b[0;31mTypeError\u001b[0m: 'str' object does not support item assignment"
     ]
    }
   ],
   "source": [
    "s[0] = 'T'"
   ]
  },
  {
   "cell_type": "raw",
   "id": "8ef3430a-94c0-4675-b16c-5b3748864b76",
   "metadata": {},
   "source": [
    "The above error occurs because the string is immutable"
   ]
  },
  {
   "cell_type": "code",
   "execution_count": 142,
   "id": "2e917a4f-09e8-4dea-9200-f12ecfceff8a",
   "metadata": {},
   "outputs": [],
   "source": [
    "s = 'I am learning Python'"
   ]
  },
  {
   "cell_type": "code",
   "execution_count": 143,
   "id": "baf4d8ae-71e5-4648-b609-33623a3d551e",
   "metadata": {},
   "outputs": [
    {
     "name": "stdout",
     "output_type": "stream",
     "text": [
      "I am learning Python\n"
     ]
    }
   ],
   "source": [
    "print(s)"
   ]
  },
  {
   "cell_type": "code",
   "execution_count": 144,
   "id": "23799b12-cdd3-4528-8732-1113f08aedd3",
   "metadata": {},
   "outputs": [
    {
     "name": "stdout",
     "output_type": "stream",
     "text": [
      "I am learning Python For Data Science\n"
     ]
    }
   ],
   "source": [
    "s = s+' For Data Science' \n",
    "print(s)"
   ]
  },
  {
   "cell_type": "raw",
   "id": "eb89bb6f-f90a-43ba-90c7-bad5e1f43961",
   "metadata": {},
   "source": [
    "The Strings can be replaced\n",
    "\n",
    "The Strings can be traversed\n",
    "\n",
    "The Strings can be concatenated\n",
    "\n",
    "But we can't change character in string i.e., change a character at a particular index"
   ]
  },
  {
   "cell_type": "code",
   "execution_count": 145,
   "id": "440474a8-36cd-4dd1-9db5-44edbe636a07",
   "metadata": {},
   "outputs": [
    {
     "name": "stdout",
     "output_type": "stream",
     "text": [
      "I\n",
      "am\n",
      "learning\n",
      "Python\n",
      "For\n",
      "Data\n",
      "Science\n",
      "7\n"
     ]
    }
   ],
   "source": [
    "cnt = 0\n",
    "for word in s.split(' '):\n",
    "    print(word)\n",
    "    cnt += 1\n",
    "print(cnt)"
   ]
  },
  {
   "cell_type": "code",
   "execution_count": 146,
   "id": "f98ec4a6-893b-4e70-ac75-f1af96b1725a",
   "metadata": {},
   "outputs": [
    {
     "data": {
      "text/plain": [
       "'I am learning Python For Data Science'"
      ]
     },
     "execution_count": 146,
     "metadata": {},
     "output_type": "execute_result"
    }
   ],
   "source": [
    "s[:]"
   ]
  },
  {
   "cell_type": "code",
   "execution_count": 147,
   "id": "adfc27bc-74d6-4973-b3c2-204dd701a569",
   "metadata": {},
   "outputs": [
    {
     "name": "stdout",
     "output_type": "stream",
     "text": [
      "ecneicS ataD roF nohtyP gninrael ma I\n"
     ]
    }
   ],
   "source": [
    "x = s[::-1]\n",
    "print(x)"
   ]
  },
  {
   "cell_type": "code",
   "execution_count": 148,
   "id": "5069e25c-c254-4af5-9158-a5de02921073",
   "metadata": {},
   "outputs": [
    {
     "data": {
      "text/plain": [
       "'learning Python For Data Science'"
      ]
     },
     "execution_count": 148,
     "metadata": {},
     "output_type": "execute_result"
    }
   ],
   "source": [
    "s[5:]"
   ]
  },
  {
   "cell_type": "code",
   "execution_count": 149,
   "id": "c98033c1-827c-4fcf-bd1f-301f5c102626",
   "metadata": {},
   "outputs": [
    {
     "data": {
      "text/plain": [
       "'am learn'"
      ]
     },
     "execution_count": 149,
     "metadata": {},
     "output_type": "execute_result"
    }
   ],
   "source": [
    "s[2:10]"
   ]
  },
  {
   "cell_type": "code",
   "execution_count": 153,
   "id": "daaf191e-aedc-4cb4-a8c9-ebad6fef1e39",
   "metadata": {},
   "outputs": [
    {
     "data": {
      "text/plain": [
       "'Ia eri'"
      ]
     },
     "execution_count": 153,
     "metadata": {},
     "output_type": "execute_result"
    }
   ],
   "source": [
    "s[0:11:2]"
   ]
  },
  {
   "cell_type": "code",
   "execution_count": 161,
   "id": "4d924ccd-03d3-4300-bd45-0c21d1c6948c",
   "metadata": {},
   "outputs": [
    {
     "data": {
      "text/plain": [
       "'inrael '"
      ]
     },
     "execution_count": 161,
     "metadata": {},
     "output_type": "execute_result"
    }
   ],
   "source": [
    "s[10:3:-1]"
   ]
  },
  {
   "cell_type": "code",
   "execution_count": 162,
   "id": "a47a4def-c9c1-47c9-9a16-1bfe8279ede6",
   "metadata": {},
   "outputs": [],
   "source": [
    "course = 'DATA SCIENCE'"
   ]
  },
  {
   "cell_type": "code",
   "execution_count": 163,
   "id": "bea040a8-ce9e-4816-b54e-ab7c1ea316a2",
   "metadata": {},
   "outputs": [
    {
     "data": {
      "text/plain": [
       "2"
      ]
     },
     "execution_count": 163,
     "metadata": {},
     "output_type": "execute_result"
    }
   ],
   "source": [
    "course.count('A')"
   ]
  },
  {
   "cell_type": "code",
   "execution_count": 164,
   "id": "ae647c9e-7f8f-48d7-9c17-0c2b91570358",
   "metadata": {},
   "outputs": [
    {
     "data": {
      "text/plain": [
       "-1"
      ]
     },
     "execution_count": 164,
     "metadata": {},
     "output_type": "execute_result"
    }
   ],
   "source": [
    "course.find('P')"
   ]
  },
  {
   "cell_type": "code",
   "execution_count": 165,
   "id": "326e9b36-36f1-4ee4-9112-d70c4c3b194c",
   "metadata": {},
   "outputs": [
    {
     "data": {
      "text/plain": [
       "-1"
      ]
     },
     "execution_count": 165,
     "metadata": {},
     "output_type": "execute_result"
    }
   ],
   "source": [
    "course.find('s')"
   ]
  },
  {
   "cell_type": "code",
   "execution_count": 166,
   "id": "0d204979-5786-45e3-9be0-69179027592f",
   "metadata": {},
   "outputs": [
    {
     "data": {
      "text/plain": [
       "7"
      ]
     },
     "execution_count": 166,
     "metadata": {},
     "output_type": "execute_result"
    }
   ],
   "source": [
    "course.find('I')"
   ]
  },
  {
   "cell_type": "code",
   "execution_count": 168,
   "id": "2c36da35-c029-4e31-96a1-1c38ffe57685",
   "metadata": {},
   "outputs": [
    {
     "data": {
      "text/plain": [
       "['DATA ', 'CIENCE']"
      ]
     },
     "execution_count": 168,
     "metadata": {},
     "output_type": "execute_result"
    }
   ],
   "source": [
    "course.split('S')"
   ]
  },
  {
   "cell_type": "code",
   "execution_count": 169,
   "id": "801a8281-b0a8-4982-9c9b-5178fbace053",
   "metadata": {},
   "outputs": [
    {
     "data": {
      "text/plain": [
       "('DATA ', 'S', 'CIENCE')"
      ]
     },
     "execution_count": 169,
     "metadata": {},
     "output_type": "execute_result"
    }
   ],
   "source": [
    "course.partition('S')"
   ]
  },
  {
   "cell_type": "code",
   "execution_count": 170,
   "id": "3c89155d-d624-4772-8412-ada8c1fc5110",
   "metadata": {},
   "outputs": [
    {
     "data": {
      "text/plain": [
       "'DATA SCIENCE'"
      ]
     },
     "execution_count": 170,
     "metadata": {},
     "output_type": "execute_result"
    }
   ],
   "source": [
    "course.upper()"
   ]
  },
  {
   "cell_type": "code",
   "execution_count": 183,
   "id": "ca90bef7-d2d5-4883-9db1-1fd77c80aa37",
   "metadata": {},
   "outputs": [
    {
     "data": {
      "text/plain": [
       "'data science'"
      ]
     },
     "execution_count": 183,
     "metadata": {},
     "output_type": "execute_result"
    }
   ],
   "source": [
    "course.lower()"
   ]
  },
  {
   "cell_type": "code",
   "execution_count": 184,
   "id": "3e09180e-82c8-41c2-9b01-c2f7b905d6cd",
   "metadata": {},
   "outputs": [
    {
     "data": {
      "text/plain": [
       "False"
      ]
     },
     "execution_count": 184,
     "metadata": {},
     "output_type": "execute_result"
    }
   ],
   "source": [
    "course.isalpha()"
   ]
  },
  {
   "cell_type": "code",
   "execution_count": 185,
   "id": "7e471e11-b6e7-47a3-8547-680768d9d7fc",
   "metadata": {},
   "outputs": [
    {
     "data": {
      "text/plain": [
       "False"
      ]
     },
     "execution_count": 185,
     "metadata": {},
     "output_type": "execute_result"
    }
   ],
   "source": [
    "course.isalnum()"
   ]
  },
  {
   "cell_type": "code",
   "execution_count": 186,
   "id": "d6f485c4-31c9-4995-a341-6b7e6adb1acf",
   "metadata": {},
   "outputs": [
    {
     "data": {
      "text/plain": [
       "'DATA SCIENCE'"
      ]
     },
     "execution_count": 186,
     "metadata": {},
     "output_type": "execute_result"
    }
   ],
   "source": [
    "course.swapcase()"
   ]
  },
  {
   "cell_type": "code",
   "execution_count": 187,
   "id": "7ee52681-0ed8-4bd8-a4e0-32fa3a7f43e3",
   "metadata": {},
   "outputs": [
    {
     "data": {
      "text/plain": [
       "'-0b101'"
      ]
     },
     "execution_count": 187,
     "metadata": {},
     "output_type": "execute_result"
    }
   ],
   "source": [
    "bin(-5)"
   ]
  },
  {
   "cell_type": "code",
   "execution_count": 188,
   "id": "a7b8c217-0568-446f-b4c4-4086dc70e953",
   "metadata": {},
   "outputs": [
    {
     "data": {
      "text/plain": [
       "'Data Science'"
      ]
     },
     "execution_count": 188,
     "metadata": {},
     "output_type": "execute_result"
    }
   ],
   "source": [
    "course.title()"
   ]
  },
  {
   "cell_type": "code",
   "execution_count": null,
   "id": "32803e5f-f479-4c42-965b-3ac32eede654",
   "metadata": {},
   "outputs": [],
   "source": []
  }
 ],
 "metadata": {
  "kernelspec": {
   "display_name": "Python 3 (ipykernel)",
   "language": "python",
   "name": "python3"
  },
  "language_info": {
   "codemirror_mode": {
    "name": "ipython",
    "version": 3
   },
   "file_extension": ".py",
   "mimetype": "text/x-python",
   "name": "python",
   "nbconvert_exporter": "python",
   "pygments_lexer": "ipython3",
   "version": "3.10.8"
  }
 },
 "nbformat": 4,
 "nbformat_minor": 5
}

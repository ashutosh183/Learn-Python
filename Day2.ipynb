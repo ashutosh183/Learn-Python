{
 "cells": [
  {
   "cell_type": "markdown",
   "id": "9a0315c8-b654-434a-b1d7-9204b6fba5fc",
   "metadata": {},
   "source": [
    "## Day2 Learning"
   ]
  },
  {
   "cell_type": "code",
   "execution_count": 49,
   "id": "5e71388f-50b1-40a6-99c4-d5706bdb822d",
   "metadata": {},
   "outputs": [
    {
     "name": "stdout",
     "output_type": "stream",
     "text": [
      "Day 2 Learnings\n"
     ]
    }
   ],
   "source": [
    "print('Day 2 Learnings')"
   ]
  },
  {
   "cell_type": "raw",
   "id": "83a8cc88-418c-48fe-aac7-78351ae43a9e",
   "metadata": {},
   "source": [
    "->When it is written a = 2\n",
    "->The compiler understands the data type while interpreting. In this case here the data type of a is 2\n",
    "->There is no character data type in python"
   ]
  },
  {
   "cell_type": "code",
   "execution_count": 50,
   "id": "5612f3ef-dd99-47f4-9600-6dd7cffc2aaf",
   "metadata": {},
   "outputs": [
    {
     "name": "stdout",
     "output_type": "stream",
     "text": [
      "Ashutosh age is {age}\n"
     ]
    }
   ],
   "source": [
    "age = 24\n",
    "\n",
    "print('Ashutosh age is {age}')"
   ]
  },
  {
   "cell_type": "markdown",
   "id": "945676ef-c278-4dac-8297-20ea390e9f58",
   "metadata": {},
   "source": [
    "###### How to format string"
   ]
  },
  {
   "cell_type": "code",
   "execution_count": 51,
   "id": "ead1ebe3-2b28-49ed-b2af-6c50b0d1c410",
   "metadata": {},
   "outputs": [
    {
     "name": "stdout",
     "output_type": "stream",
     "text": [
      "Ashutosh age is 24\n"
     ]
    }
   ],
   "source": [
    "print(f'Ashutosh age is {age}')"
   ]
  },
  {
   "cell_type": "raw",
   "id": "e3b72e3a-3a06-4ab2-8c29-afffc2cf59b1",
   "metadata": {},
   "source": [
    "The above string is called as the format string"
   ]
  },
  {
   "cell_type": "markdown",
   "id": "6cf0fa78-a914-49d0-a3ce-b00e8178613a",
   "metadata": {},
   "source": [
    "->Indexing starts in python from 0\n",
    "->Reverse indexing is possible in python"
   ]
  },
  {
   "cell_type": "markdown",
   "id": "4105cf18-965a-44ca-846f-678791be5b12",
   "metadata": {},
   "source": [
    "### format() "
   ]
  },
  {
   "cell_type": "code",
   "execution_count": 52,
   "id": "2c570dea-fa26-4061-a0b6-281663d0939c",
   "metadata": {},
   "outputs": [
    {
     "name": "stdout",
     "output_type": "stream",
     "text": [
      "My name is Ashutosh and age is 24\n"
     ]
    }
   ],
   "source": [
    "name = 'Ashutosh'\n",
    "age = 24\n",
    "print('My name is {} and age is {}'.format(name, age))"
   ]
  },
  {
   "cell_type": "raw",
   "id": "6ff9ed39-0e23-4607-813a-8bc89b550101",
   "metadata": {},
   "source": [
    "format() prints the variable in sequential manner\n",
    "\n",
    "What to do when there are 100 variables?\n",
    "    Ans -> we can use placeholders to print the values."
   ]
  },
  {
   "cell_type": "code",
   "execution_count": 53,
   "id": "406ade95-c656-42ff-b25b-50d361d16774",
   "metadata": {},
   "outputs": [
    {
     "name": "stdout",
     "output_type": "stream",
     "text": [
      "My name is Ashutosh and age is 24\n"
     ]
    }
   ],
   "source": [
    "print('My name is {name} and age is {age}'.format(age=age, name=name))"
   ]
  },
  {
   "cell_type": "markdown",
   "id": "01eacd35-be64-4042-8247-396d1d963c63",
   "metadata": {},
   "source": [
    "## Control Flow\n",
    "### Decision Making Statements\n",
    "\n",
    "There are several decision making statements\n",
    "\n",
    "\n",
    "    1.if\n",
    "    2.if else\n",
    "    3.if elif else\n",
    "    4.Nested if\n",
    "    5.Single Statement"
   ]
  },
  {
   "cell_type": "code",
   "execution_count": 54,
   "id": "4caa0213-f1b5-4093-912e-4637fdb9bc63",
   "metadata": {},
   "outputs": [
    {
     "name": "stdout",
     "output_type": "stream",
     "text": [
      "Eligible to vote\n"
     ]
    }
   ],
   "source": [
    "# if\n",
    "\n",
    "age = 18\n",
    "if age >= 18:\n",
    "    print('Eligible to vote')"
   ]
  },
  {
   "cell_type": "markdown",
   "id": "0211f848-ffd9-46f2-abad-8d93350925e0",
   "metadata": {},
   "source": [
    "18 == 18"
   ]
  },
  {
   "cell_type": "code",
   "execution_count": 55,
   "id": "5a3d2292-416d-4c2f-9289-8ff57d92a1fd",
   "metadata": {},
   "outputs": [
    {
     "data": {
      "text/plain": [
       "True"
      ]
     },
     "execution_count": 55,
     "metadata": {},
     "output_type": "execute_result"
    }
   ],
   "source": [
    "18 != 19"
   ]
  },
  {
   "cell_type": "code",
   "execution_count": 56,
   "id": "c895c721-cd7b-40ea-9249-e7b8c1cf112f",
   "metadata": {},
   "outputs": [
    {
     "data": {
      "text/plain": [
       "True"
      ]
     },
     "execution_count": 56,
     "metadata": {},
     "output_type": "execute_result"
    }
   ],
   "source": [
    "19 > 18"
   ]
  },
  {
   "cell_type": "code",
   "execution_count": 57,
   "id": "51916058-1906-48b8-a48e-5361534f2694",
   "metadata": {},
   "outputs": [
    {
     "data": {
      "text/plain": [
       "False"
      ]
     },
     "execution_count": 57,
     "metadata": {},
     "output_type": "execute_result"
    }
   ],
   "source": [
    "1.02380 > 2"
   ]
  },
  {
   "cell_type": "code",
   "execution_count": 58,
   "id": "6d33b0df-2390-409a-844e-adbeb6e28dfd",
   "metadata": {},
   "outputs": [
    {
     "name": "stdin",
     "output_type": "stream",
     "text": [
      " 12\n"
     ]
    },
    {
     "data": {
      "text/plain": [
       "'12'"
      ]
     },
     "execution_count": 58,
     "metadata": {},
     "output_type": "execute_result"
    }
   ],
   "source": [
    "input()"
   ]
  },
  {
   "cell_type": "code",
   "execution_count": 61,
   "id": "bcad26f9-1d0a-4498-992d-901988d72d2a",
   "metadata": {},
   "outputs": [
    {
     "name": "stdin",
     "output_type": "stream",
     "text": [
      "Enter your age 12\n"
     ]
    }
   ],
   "source": [
    "age = int(input('Enter your age'))"
   ]
  },
  {
   "cell_type": "markdown",
   "id": "f1e712c5-aa26-4480-a0fb-cd2bfa9ada97",
   "metadata": {
    "tags": []
   },
   "source": [
    "#### Task1 \n",
    "\n",
    "###### Take input of age\n",
    "###### Check whether age >= 18\n"
   ]
  },
  {
   "cell_type": "code",
   "execution_count": 62,
   "id": "7fa6db36-52e5-434f-b1ea-cc8ed2346874",
   "metadata": {},
   "outputs": [
    {
     "name": "stdin",
     "output_type": "stream",
     "text": [
      " 12\n"
     ]
    }
   ],
   "source": [
    "age = int(input())\n",
    "\n",
    "if age >= 18 and age <= 32:\n",
    "    print('You are young blood')"
   ]
  },
  {
   "cell_type": "markdown",
   "id": "c2c0e0d7-21ab-4825-98f9-1b7c9b683d53",
   "metadata": {},
   "source": [
    "#### Account\n",
    "\n",
    "##### money > 1000\n",
    "##### provide 10% off"
   ]
  },
  {
   "cell_type": "code",
   "execution_count": 64,
   "id": "94fdd7ba-5161-4e42-b11c-083c78bcd477",
   "metadata": {},
   "outputs": [
    {
     "name": "stdin",
     "output_type": "stream",
     "text": [
      "Enter the amount 12\n"
     ]
    },
    {
     "name": "stdout",
     "output_type": "stream",
     "text": [
      "12\n"
     ]
    }
   ],
   "source": [
    "money = int(input('Enter the amount'))\n",
    "\n",
    "if money >= 1000:\n",
    "    money = money - (money * 0.1)\n",
    "print(money)"
   ]
  },
  {
   "cell_type": "markdown",
   "id": "a6b65c3d-5950-4bc8-abc1-7866f0954e3b",
   "metadata": {},
   "source": [
    "#### Mall\n",
    "\n",
    "##### Product price > 1000 provide 20% off\n",
    "##### Product price <= 1000 provide 30% off"
   ]
  },
  {
   "cell_type": "code",
   "execution_count": 65,
   "id": "33aeedf1-71eb-4413-ae81-8124d72cfb9d",
   "metadata": {},
   "outputs": [
    {
     "name": "stdin",
     "output_type": "stream",
     "text": [
      " 124123\n"
     ]
    },
    {
     "name": "stdout",
     "output_type": "stream",
     "text": [
      "The price of product is 99298\n"
     ]
    }
   ],
   "source": [
    "price_of_product = int(input())\n",
    "\n",
    "if price_of_product <= 1000:\n",
    "    price_of_product = price_of_product * 0.7\n",
    "else:\n",
    "    price_of_product = price_of_product * 0.8\n",
    "    \n",
    "print('The price of product is {}'.format(int(price_of_product)))"
   ]
  },
  {
   "cell_type": "markdown",
   "id": "268af89c-da57-43c4-98e3-936488c8dd8d",
   "metadata": {},
   "source": [
    "### Multiple condition\n",
    "\n",
    "#### Mall\n",
    "\n",
    "##### Product price > 3000 -> 20% off\n",
    "##### Product price > 2000 and <= 3000 -> 30% off\n",
    "##### Product price >= 1000 and <= 2000 -> 40% off\n",
    "##### No discount for products priced less than 1000"
   ]
  },
  {
   "cell_type": "code",
   "execution_count": 66,
   "id": "d894f356-ef6f-41cf-835f-0de1b7243d40",
   "metadata": {},
   "outputs": [
    {
     "name": "stdin",
     "output_type": "stream",
     "text": [
      " 123412\n"
     ]
    },
    {
     "name": "stdout",
     "output_type": "stream",
     "text": [
      "After discount 98729.6\n"
     ]
    }
   ],
   "source": [
    "price = int(input())\n",
    "original_price = price\n",
    "\n",
    "if price > 3000:\n",
    "    price = price * 0.8\n",
    "elif price > 2000 and price <= 3000:\n",
    "    price = price * 0.7\n",
    "elif price >= 1000 and price < 2000:\n",
    "    price = price * 0.6\n",
    "else:\n",
    "    print('No discount')\n",
    "    \n",
    "if price == original_price:\n",
    "    print(price)\n",
    "else:\n",
    "    print('After discount {}'.format(price))"
   ]
  },
  {
   "cell_type": "markdown",
   "id": "b2ba2893-687f-40c6-bb94-eaa4c470bed2",
   "metadata": {},
   "source": [
    "### LOOPS\n",
    "\n",
    "* While Loop\n",
    "* For Loop\n",
    "* Nested Loops\n",
    "* Loop Controls(Break, Continue, Pass)"
   ]
  },
  {
   "cell_type": "markdown",
   "id": "fa7d5dfa-0bf5-4402-b39f-1c2af8f82a63",
   "metadata": {},
   "source": [
    "### WHILE loop"
   ]
  },
  {
   "cell_type": "code",
   "execution_count": 67,
   "id": "7ca1478b-9a45-40e9-aa90-11f344f3ecb6",
   "metadata": {},
   "outputs": [
    {
     "name": "stdout",
     "output_type": "stream",
     "text": [
      "Sorry it's time for you to retire\n"
     ]
    }
   ],
   "source": [
    "#While loop\n",
    "joining_age = 24\n",
    "\n",
    "while joining_age <= 60:\n",
    "    if joining_age == 60:\n",
    "        print(f\"Sorry it's time for you to retire\")\n",
    "    joining_age += 1"
   ]
  },
  {
   "cell_type": "code",
   "execution_count": 70,
   "id": "63163fd7-31f5-4204-aa12-49905a0d52bf",
   "metadata": {},
   "outputs": [
    {
     "name": "stdout",
     "output_type": "stream",
     "text": [
      "1000\n",
      "900\n",
      "800\n",
      "700\n",
      "600\n",
      "500\n",
      "400\n",
      "300\n",
      "200\n",
      "100\n",
      "Your balance is 0. Please deposit some money.\n"
     ]
    }
   ],
   "source": [
    "total_amount = 1000\n",
    "\n",
    "while total_amount != 0:\n",
    "    print(total_amount)\n",
    "    total_amount -= 100\n",
    "else:\n",
    "    print(f'Your balance is 0. Please deposit some money.')"
   ]
  },
  {
   "cell_type": "markdown",
   "id": "cd54b4df-e2bd-433c-8ef6-54db91520982",
   "metadata": {},
   "source": [
    "### FOR loop"
   ]
  },
  {
   "cell_type": "code",
   "execution_count": 71,
   "id": "7afa33dd-8139-4f25-9829-130a5bb5fe3d",
   "metadata": {},
   "outputs": [
    {
     "data": {
      "text/plain": [
       "list"
      ]
     },
     "execution_count": 71,
     "metadata": {},
     "output_type": "execute_result"
    }
   ],
   "source": [
    "lst = ['Ashu', 1, 2, 4, 5, 'Pandey']\n",
    "type(lst)"
   ]
  },
  {
   "cell_type": "code",
   "execution_count": 73,
   "id": "3f59c8f6-6fef-4b46-84e7-b44df77cb6d4",
   "metadata": {},
   "outputs": [
    {
     "name": "stdout",
     "output_type": "stream",
     "text": [
      "Ashu\t1\t2\t4\t5\tPandey\t"
     ]
    }
   ],
   "source": [
    "for item in lst:\n",
    "    print(item, end=\"\\t\")"
   ]
  },
  {
   "cell_type": "code",
   "execution_count": 74,
   "id": "c9162f97-3efa-43a6-9608-995e388a08f4",
   "metadata": {},
   "outputs": [
    {
     "name": "stdout",
     "output_type": "stream",
     "text": [
      "Found cherry\n"
     ]
    }
   ],
   "source": [
    "fruits_lst = ['apple', 'banana', 'cherry', 'mango']\n",
    "\n",
    "for x in fruits_lst:\n",
    "    if x == 'cherry':\n",
    "        print('Found cherry')\n",
    "        break"
   ]
  },
  {
   "cell_type": "code",
   "execution_count": 75,
   "id": "497bd499-069c-4196-a752-3d7b6596c460",
   "metadata": {},
   "outputs": [
    {
     "name": "stdout",
     "output_type": "stream",
     "text": [
      "m\ta\tn\tg\to\te\ts\t"
     ]
    }
   ],
   "source": [
    "fruit = 'mangoes'\n",
    "\n",
    "for x in fruit:\n",
    "    print(x, end=\"\\t\")"
   ]
  },
  {
   "cell_type": "code",
   "execution_count": 76,
   "id": "dced1349-ca65-40ce-9c0f-60b0e0e45aaf",
   "metadata": {},
   "outputs": [
    {
     "name": "stdout",
     "output_type": "stream",
     "text": [
      "range(1, 6)\n"
     ]
    }
   ],
   "source": [
    "print(range(1, 6))"
   ]
  },
  {
   "cell_type": "code",
   "execution_count": 78,
   "id": "f5f67d1a-5a7e-475a-9124-2f3ddb10e4e6",
   "metadata": {},
   "outputs": [
    {
     "name": "stdout",
     "output_type": "stream",
     "text": [
      "1\n",
      "3\n",
      "5\n"
     ]
    }
   ],
   "source": [
    "for i in range(1, 6, 2):\n",
    "    print(i)"
   ]
  },
  {
   "cell_type": "markdown",
   "id": "201dbf2b-1727-490f-96d4-f12259cadf67",
   "metadata": {},
   "source": [
    "#### Range\n",
    "\n",
    "* range(start, stop, step)"
   ]
  },
  {
   "cell_type": "code",
   "execution_count": null,
   "id": "58526d07-8151-4f99-8646-0db19edd96b7",
   "metadata": {},
   "outputs": [],
   "source": []
  }
 ],
 "metadata": {
  "kernelspec": {
   "display_name": "Python 3 (ipykernel)",
   "language": "python",
   "name": "python3"
  },
  "language_info": {
   "codemirror_mode": {
    "name": "ipython",
    "version": 3
   },
   "file_extension": ".py",
   "mimetype": "text/x-python",
   "name": "python",
   "nbconvert_exporter": "python",
   "pygments_lexer": "ipython3",
   "version": "3.10.8"
  }
 },
 "nbformat": 4,
 "nbformat_minor": 5
}

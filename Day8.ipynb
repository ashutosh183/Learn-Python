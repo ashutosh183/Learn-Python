{
 "cells": [
  {
   "cell_type": "markdown",
   "id": "475113d3-ce0f-490f-aaec-b507746f7e29",
   "metadata": {},
   "source": [
    "# OOPS STARTING"
   ]
  },
  {
   "cell_type": "markdown",
   "id": "3b45b588-9462-4f72-8bcd-5786518c4315",
   "metadata": {},
   "source": [
    "* OOP -> Object Oriented Programming"
   ]
  },
  {
   "cell_type": "code",
   "execution_count": 1,
   "id": "a0cf4c26-2aaf-4e1a-a22c-248b31b19957",
   "metadata": {},
   "outputs": [],
   "source": [
    "a = 1"
   ]
  },
  {
   "cell_type": "code",
   "execution_count": 2,
   "id": "23c1eb7e-63d0-49c6-91a9-2173c43f091f",
   "metadata": {},
   "outputs": [
    {
     "name": "stdout",
     "output_type": "stream",
     "text": [
      "<class 'int'>\n"
     ]
    }
   ],
   "source": [
    "print(type(a))"
   ]
  },
  {
   "cell_type": "markdown",
   "id": "1163d30f-4185-4558-9610-1318b64e1df2",
   "metadata": {},
   "source": [
    "here it denote a belongs to type of *class int*"
   ]
  },
  {
   "cell_type": "code",
   "execution_count": 4,
   "id": "11750c4b-a38b-46a0-be09-0d752d5d37d1",
   "metadata": {},
   "outputs": [
    {
     "name": "stdout",
     "output_type": "stream",
     "text": [
      "<class 'str'>\n"
     ]
    }
   ],
   "source": [
    "s = 'python'\n",
    "print(type(s))"
   ]
  },
  {
   "cell_type": "markdown",
   "id": "2445dd1f-f330-4d46-88fb-a2244c751193",
   "metadata": {},
   "source": [
    "* WE SHOULD KNOW ABOUT CLASS & OBJECTS to work with real world"
   ]
  },
  {
   "cell_type": "markdown",
   "id": "7fc418ca-b1fb-4c6d-87c4-d34b80338846",
   "metadata": {},
   "source": [
    "## CLASS"
   ]
  },
  {
   "cell_type": "code",
   "execution_count": 6,
   "id": "05cdc156-527e-4eb8-ac96-50f92b62d129",
   "metadata": {},
   "outputs": [],
   "source": [
    "class test:\n",
    "    pass"
   ]
  },
  {
   "cell_type": "code",
   "execution_count": 9,
   "id": "4815b213-5c39-42d2-8da0-c51ab41b8d76",
   "metadata": {},
   "outputs": [],
   "source": [
    "t = test()"
   ]
  },
  {
   "cell_type": "code",
   "execution_count": 10,
   "id": "1ded3075-af30-4301-af23-4f2d0cd40b35",
   "metadata": {},
   "outputs": [
    {
     "data": {
      "text/plain": [
       "__main__.test"
      ]
     },
     "execution_count": 10,
     "metadata": {},
     "output_type": "execute_result"
    }
   ],
   "source": [
    "type(t)"
   ]
  },
  {
   "cell_type": "code",
   "execution_count": 18,
   "id": "ef963cdb-c6ef-4f8d-bda0-847b2387f98c",
   "metadata": {},
   "outputs": [],
   "source": [
    "class data:\n",
    "    \n",
    "    def wlcm_msg(self):\n",
    "        print('Welcome to data class')"
   ]
  },
  {
   "cell_type": "code",
   "execution_count": 19,
   "id": "bf10e7bd-1b9b-4dd7-a165-d269a8a63018",
   "metadata": {},
   "outputs": [],
   "source": [
    "ashu = data()"
   ]
  },
  {
   "cell_type": "code",
   "execution_count": 20,
   "id": "65a0537b-3975-46f8-8539-5a2b73ec0ba5",
   "metadata": {},
   "outputs": [
    {
     "name": "stdout",
     "output_type": "stream",
     "text": [
      "Welcome to data class\n"
     ]
    }
   ],
   "source": [
    "ashu.wlcm_msg()"
   ]
  },
  {
   "cell_type": "markdown",
   "id": "a31b71f9-3776-42cf-b95a-ce2aa9054af7",
   "metadata": {},
   "source": [
    "#### Constructor\n",
    "\n",
    "* __ __intit__ __()"
   ]
  },
  {
   "cell_type": "code",
   "execution_count": 31,
   "id": "936cb23b-7b4c-4ceb-b029-0b463b6bedea",
   "metadata": {},
   "outputs": [],
   "source": [
    "class Student:\n",
    "    \n",
    "    def __init__(self, stu_name, stu_id, stu_ph_no):\n",
    "        self.stu_name = stu_name\n",
    "        self.stu_id = stu_id\n",
    "        self.stu_ph_no = stu_ph_no\n",
    "    \n",
    "    def returnDetails(self):\n",
    "        return self.stu_name, self.stu_id, self.stu_ph_no"
   ]
  },
  {
   "cell_type": "code",
   "execution_count": 38,
   "id": "e5cb3720-33cf-42d8-a1ed-54b99558b2ae",
   "metadata": {},
   "outputs": [
    {
     "name": "stdout",
     "output_type": "stream",
     "text": [
      "<class 'tuple'>\n"
     ]
    }
   ],
   "source": [
    "ashutosh = Student('ashu', stu_ph_no = 6384137446, stu_id = 1605006)\n",
    "print(type(ashutosh.returnDetails()))"
   ]
  },
  {
   "cell_type": "code",
   "execution_count": 39,
   "id": "02d28c5d-dbc9-4d8a-a899-72d978216184",
   "metadata": {},
   "outputs": [
    {
     "data": {
      "text/plain": [
       "('pandey', 1605034, 6384137447)"
      ]
     },
     "execution_count": 39,
     "metadata": {},
     "output_type": "execute_result"
    }
   ],
   "source": [
    "pandey = Student('pandey', 1605034, 6384137447)\n",
    "pandey.returnDetails()"
   ]
  },
  {
   "cell_type": "markdown",
   "id": "f60bda79-489a-4b3f-a589-27e06aa7adff",
   "metadata": {},
   "source": [
    "pandey.stu_ph_no"
   ]
  },
  {
   "cell_type": "code",
   "execution_count": 36,
   "id": "6afb76e9-7fdb-4deb-939b-f6771ca3ae9f",
   "metadata": {},
   "outputs": [
    {
     "data": {
      "text/plain": [
       "'ashu'"
      ]
     },
     "execution_count": 36,
     "metadata": {},
     "output_type": "execute_result"
    }
   ],
   "source": [
    "ashutosh.stu_name"
   ]
  },
  {
   "cell_type": "markdown",
   "id": "c8495251-75a6-4952-924f-dc7115965dca",
   "metadata": {},
   "source": [
    "SELF IS NOT A KEYWORD IT'S JUST A REFERENCE"
   ]
  },
  {
   "cell_type": "code",
   "execution_count": null,
   "id": "81dd1b1d-4443-4646-957b-06a824ba01ca",
   "metadata": {},
   "outputs": [],
   "source": []
  }
 ],
 "metadata": {
  "kernelspec": {
   "display_name": "Python 3 (ipykernel)",
   "language": "python",
   "name": "python3"
  },
  "language_info": {
   "codemirror_mode": {
    "name": "ipython",
    "version": 3
   },
   "file_extension": ".py",
   "mimetype": "text/x-python",
   "name": "python",
   "nbconvert_exporter": "python",
   "pygments_lexer": "ipython3",
   "version": "3.10.8"
  }
 },
 "nbformat": 4,
 "nbformat_minor": 5
}

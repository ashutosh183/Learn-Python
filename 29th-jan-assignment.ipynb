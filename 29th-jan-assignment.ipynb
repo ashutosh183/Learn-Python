{
 "cells": [
  {
   "cell_type": "markdown",
   "id": "e0e34bdb",
   "metadata": {},
   "source": [
    "#### 29th Jan Assignment"
   ]
  },
  {
   "cell_type": "markdown",
   "id": "3011b00b",
   "metadata": {},
   "source": [
    "Python Basics Question:\n",
    "1. Who Developed Python Programming Language? \n",
    "        A. Guido van Rossum developed Python Programming Language .\n",
    "2. Which type of programming does python support?\n",
    "        A. Python support Object-oriented Programming and structured programming .\n",
    "3. Is python case sensitive when dealing with identifiers?\n",
    "        A. Yes , python is case sensitive language.\n",
    "4. What is the correct extension of python file? \n",
    "        A. .py is the extension of python file and .ipynb is the extension of ipython notebook.\n",
    "5. Is python code compiled or interpreted?\n",
    "        A. Python is an interpreted language, which means the source code of a Python program is converted into bytecode that is then executed by the Python virtual machine.\n",
    "6. Name a few blocks of code used to define python programming language?\n",
    "A. Indentation is used to define block of code in python.\n",
    "    For Ex: a=20\n",
    "    If a>10:\n",
    "    Print(“a is greater than 10”)\n",
    "    else :\n",
    "    print(“a is less than 10”)\n",
    "    In this above example to define indentation for if block we used tab space or 4 spaces .\n",
    "7. State a character used to give single-line comments in python?\n",
    "        A. # character is used to give single-line comments in python.\n",
    "8. Mention functions which can help us to find the version of python that we are currently working on?\n",
    "        A. The function sys. version can help us to find the version of python that we are currently working on.\n",
    "9. Python supports the creation of anonymous functions at runtime ,using a construct called? \n",
    "        A. Lambda\n",
    "10. What does pip stand for python?\n",
    "        A. PIP - Preferred Installer Program, it is a command-line utility that installs, reinstalls, or uninstalls PyPI packages .\n",
    "11. Mention a few built-in functions in python?\n",
    "        A. print(),type(),id(),sum(),max(),min(),len() are few built-in functions in python.\n",
    "12. What is the maximum possible length of an identifier in python?\n",
    "        A. An identifier can have a maximum length of 79 characters in Python.\n",
    "13. What are the benefits of using python?\n",
    "        A. Python is simple to use and understand , dynamically typed , Free and open source, portability etc\n",
    "14. How is memory managed in python?\n",
    "        A. Memory in Python is managed by Python private heap space. All Python objects and data structures are located in a private heap. This private heap is taken care of by Python Interpreter itself, and a programmer doesn't have access to this private heap.\n",
    "15. How to install python on windows and set path variables?\n",
    "       A. Open the official Python website in your web browser. And download the latest python version\n",
    "        Run the Executable installer.\n",
    "        Add Python to PATH environmental variables\n",
    "        To verify the python installation through the command line. Open command prompt and type “python”.\n",
    "16. Is indentation required in python?\n",
    "       A. Indentation is mandatory in python to define the blocks of statements. The number of spaces must be uniform in a block of code. It is preferred to use whitespaces instead of tabs to indent in python.\n"
   ]
  }
 ],
 "metadata": {
  "kernelspec": {
   "display_name": "Python 3 (ipykernel)",
   "language": "python",
   "name": "python3"
  },
  "language_info": {
   "codemirror_mode": {
    "name": "ipython",
    "version": 3
   },
   "file_extension": ".py",
   "mimetype": "text/x-python",
   "name": "python",
   "nbconvert_exporter": "python",
   "pygments_lexer": "ipython3",
   "version": "3.9.13"
  }
 },
 "nbformat": 4,
 "nbformat_minor": 5
}

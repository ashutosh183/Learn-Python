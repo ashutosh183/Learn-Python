{
 "cells": [
  {
   "cell_type": "markdown",
   "id": "348c0579-0ddd-45b1-b74b-093605465ce0",
   "metadata": {},
   "source": [
    "## LAMBDA"
   ]
  },
  {
   "cell_type": "code",
   "execution_count": 5,
   "id": "f5274df6-44f6-4e69-9ea4-dff637672e8b",
   "metadata": {},
   "outputs": [
    {
     "data": {
      "text/plain": [
       "27"
      ]
     },
     "execution_count": 5,
     "metadata": {},
     "output_type": "execute_result"
    }
   ],
   "source": [
    "def power(n, p):\n",
    "    return n ** p\n",
    "\n",
    "power(3, 3)"
   ]
  },
  {
   "cell_type": "markdown",
   "id": "90c90d9b-9bc8-4d1f-83c9-a4826cb79aa4",
   "metadata": {},
   "source": [
    "AS THE ABOVE FUNCTION IS ONE LINE FUNCTION WE CAN WRITE ONE LINE FUNCTIONS CALLED LAMBDA"
   ]
  },
  {
   "cell_type": "code",
   "execution_count": 7,
   "id": "3f9dec74-5b77-45f1-9287-e540103056af",
   "metadata": {},
   "outputs": [],
   "source": [
    "power = lambda n, p: n ** p"
   ]
  },
  {
   "cell_type": "code",
   "execution_count": 8,
   "id": "2cd5042f-23fe-4101-9451-36ddaa4ba822",
   "metadata": {},
   "outputs": [
    {
     "data": {
      "text/plain": [
       "27"
      ]
     },
     "execution_count": 8,
     "metadata": {},
     "output_type": "execute_result"
    }
   ],
   "source": [
    "power(27, 1)"
   ]
  },
  {
   "cell_type": "code",
   "execution_count": 9,
   "id": "4faa9653-99ab-491d-a954-1691c73bcc33",
   "metadata": {},
   "outputs": [
    {
     "data": {
      "text/plain": [
       "200"
      ]
     },
     "execution_count": 9,
     "metadata": {},
     "output_type": "execute_result"
    }
   ],
   "source": [
    "add = lambda a, b: a + b\n",
    "\n",
    "add(100, 100)"
   ]
  },
  {
   "cell_type": "code",
   "execution_count": 10,
   "id": "b7eb4941-6c14-489f-9663-398fff557321",
   "metadata": {},
   "outputs": [
    {
     "data": {
      "text/plain": [
       "96.8"
      ]
     },
     "execution_count": 10,
     "metadata": {},
     "output_type": "execute_result"
    }
   ],
   "source": [
    "temp_change = lambda temp: (9/5) * temp + 32\n",
    "\n",
    "temp_change(36)"
   ]
  },
  {
   "cell_type": "code",
   "execution_count": 13,
   "id": "85de6ba4-7f2c-4aa2-91d2-33557395eb72",
   "metadata": {},
   "outputs": [],
   "source": [
    "max_of_two = lambda a, b: a if a > b else b"
   ]
  },
  {
   "cell_type": "code",
   "execution_count": 14,
   "id": "2fd77788-6294-4ab3-80ee-d105fad4d496",
   "metadata": {},
   "outputs": [
    {
     "data": {
      "text/plain": [
       "100"
      ]
     },
     "execution_count": 14,
     "metadata": {},
     "output_type": "execute_result"
    }
   ],
   "source": [
    "max_of_two(100, 100)"
   ]
  },
  {
   "cell_type": "code",
   "execution_count": 15,
   "id": "76e91d3b-4d2c-4996-b6dd-c8dd2c431661",
   "metadata": {},
   "outputs": [
    {
     "data": {
      "text/plain": [
       "25"
      ]
     },
     "execution_count": 15,
     "metadata": {},
     "output_type": "execute_result"
    }
   ],
   "source": [
    "len_of_str = lambda s: len(s)\n",
    "\n",
    "len_of_str('Ashutosh is loving Python')"
   ]
  },
  {
   "cell_type": "markdown",
   "id": "dde60505-b75e-4db2-979f-aef634237156",
   "metadata": {},
   "source": [
    "## MAP, REDUCE & FILTER"
   ]
  },
  {
   "cell_type": "markdown",
   "id": "d8dda996-072c-4589-878d-5d0030254be9",
   "metadata": {},
   "source": [
    "#### MAP"
   ]
  },
  {
   "cell_type": "code",
   "execution_count": 29,
   "id": "341427f9-77d6-46cc-9aad-b0ec05dd577e",
   "metadata": {},
   "outputs": [
    {
     "data": {
      "text/plain": [
       "[1, 4, 9, 16, 25]"
      ]
     },
     "execution_count": 29,
     "metadata": {},
     "output_type": "execute_result"
    }
   ],
   "source": [
    "lst = [1, 2, 3, 4, 5]\n",
    "def square(x):\n",
    "    return x ** 2\n",
    "\n",
    "list(map(square, lst))"
   ]
  },
  {
   "cell_type": "code",
   "execution_count": 30,
   "id": "20a37fea-2b4d-4d49-9078-7c95064abf10",
   "metadata": {},
   "outputs": [
    {
     "data": {
      "text/plain": [
       "[1, 4, 9, 16, 25]"
      ]
     },
     "execution_count": 30,
     "metadata": {},
     "output_type": "execute_result"
    }
   ],
   "source": [
    "sq_lst = list(map(lambda x: x**2, lst))\n",
    "sq_lst"
   ]
  },
  {
   "cell_type": "code",
   "execution_count": 31,
   "id": "5e48caff-96eb-4880-96d6-0633e83e2301",
   "metadata": {},
   "outputs": [
    {
     "data": {
      "text/plain": [
       "[7, 9, 11, 13, 15]"
      ]
     },
     "execution_count": 31,
     "metadata": {},
     "output_type": "execute_result"
    }
   ],
   "source": [
    "lst = [1, 2, 3, 4, 5]\n",
    "lst2 = [6, 7, 8, 9,10]\n",
    "\n",
    "list(map(lambda x, y: x + y, lst, lst2))"
   ]
  },
  {
   "cell_type": "code",
   "execution_count": 32,
   "id": "f08c0211-d2b8-4f6d-bd2b-3a680072c0dd",
   "metadata": {},
   "outputs": [
    {
     "data": {
      "text/plain": [
       "['p', 'w', 's', 'k', 'i', 'l', 'l', 's']"
      ]
     },
     "execution_count": 32,
     "metadata": {},
     "output_type": "execute_result"
    }
   ],
   "source": [
    "s = 'PWSKILLS'\n",
    "\n",
    "list(map(lambda x: x.lower(), s))"
   ]
  },
  {
   "cell_type": "markdown",
   "id": "ef695a2a-eb5c-4400-a01f-c83abe18a02c",
   "metadata": {},
   "source": [
    "#### REDUCE"
   ]
  },
  {
   "cell_type": "code",
   "execution_count": 33,
   "id": "b3abb92e-ab71-4f03-b7b1-9e276c906bc0",
   "metadata": {},
   "outputs": [],
   "source": [
    "from functools import reduce"
   ]
  },
  {
   "cell_type": "code",
   "execution_count": 37,
   "id": "c3fb5cee-5b24-4634-8c18-9d447feae6bf",
   "metadata": {},
   "outputs": [
    {
     "data": {
      "text/plain": [
       "20"
      ]
     },
     "execution_count": 37,
     "metadata": {},
     "output_type": "execute_result"
    }
   ],
   "source": [
    "lst = [1, 7, 3, 4, 5]\n",
    "\n",
    "reduce(lambda x, y: x + y, lst)"
   ]
  },
  {
   "cell_type": "markdown",
   "id": "b8a36ac9-188f-4623-904c-efca25729226",
   "metadata": {},
   "source": [
    "* REDUCE ALWAYS TAKES TWO ARGUMENTS AND DOES NOT TAKE UP EMPTY LIST"
   ]
  },
  {
   "cell_type": "code",
   "execution_count": 38,
   "id": "1f3cef71-06cd-4a32-8cf7-f9ce2950bf7a",
   "metadata": {},
   "outputs": [
    {
     "data": {
      "text/plain": [
       "7"
      ]
     },
     "execution_count": 38,
     "metadata": {},
     "output_type": "execute_result"
    }
   ],
   "source": [
    "reduce(lambda x, y:x if x > y else y, lst)"
   ]
  },
  {
   "cell_type": "code",
   "execution_count": 43,
   "id": "6a9beaaa-f9a0-49cd-be53-49768e644cfb",
   "metadata": {},
   "outputs": [],
   "source": [
    "lst = [2, 100, 56, 7, 89, 98, 10, 1, 3]"
   ]
  },
  {
   "cell_type": "code",
   "execution_count": 44,
   "id": "5acb4e03-115c-48c9-9b76-a19f744f6dc9",
   "metadata": {},
   "outputs": [
    {
     "data": {
      "text/plain": [
       "[2, 100, 56, 98, 10]"
      ]
     },
     "execution_count": 44,
     "metadata": {},
     "output_type": "execute_result"
    }
   ],
   "source": [
    "list(filter(lambda x:x%2 == 0, lst))"
   ]
  },
  {
   "cell_type": "code",
   "execution_count": 46,
   "id": "003682bf-94f6-4871-ac59-3c6f289c57e7",
   "metadata": {},
   "outputs": [],
   "source": [
    "lst = [-1, 6, -7, 9, -8, -0, 1]"
   ]
  },
  {
   "cell_type": "code",
   "execution_count": 47,
   "id": "61f1d7bc-cfee-450c-a979-f8f1c9811ab7",
   "metadata": {},
   "outputs": [
    {
     "data": {
      "text/plain": [
       "[-1, -7, -8]"
      ]
     },
     "execution_count": 47,
     "metadata": {},
     "output_type": "execute_result"
    }
   ],
   "source": [
    "list(filter(lambda x: x < 0, lst))"
   ]
  },
  {
   "cell_type": "code",
   "execution_count": null,
   "id": "58a74192-ad30-4d02-bd5c-70c72fb9be83",
   "metadata": {},
   "outputs": [],
   "source": [
    "name = ['ashu', 'bengaluru', 'pune', 'mumbai"
   ]
  }
 ],
 "metadata": {
  "kernelspec": {
   "display_name": "Python 3 (ipykernel)",
   "language": "python",
   "name": "python3"
  },
  "language_info": {
   "codemirror_mode": {
    "name": "ipython",
    "version": 3
   },
   "file_extension": ".py",
   "mimetype": "text/x-python",
   "name": "python",
   "nbconvert_exporter": "python",
   "pygments_lexer": "ipython3",
   "version": "3.10.8"
  }
 },
 "nbformat": 4,
 "nbformat_minor": 5
}

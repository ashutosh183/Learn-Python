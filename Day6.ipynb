{
 "cells": [
  {
   "cell_type": "markdown",
   "id": "cf8b3d2f-3971-46db-b644-f05f7e5843a3",
   "metadata": {},
   "source": [
    "### FUCNTIONS"
   ]
  },
  {
   "cell_type": "code",
   "execution_count": 1,
   "id": "469b7ed5-88a9-4c54-8008-bafa618e8075",
   "metadata": {},
   "outputs": [],
   "source": [
    "def test():\n",
    "    print('Test Function is called')"
   ]
  },
  {
   "cell_type": "code",
   "execution_count": 2,
   "id": "92b6ba06-b29d-481d-889c-529e33e6b080",
   "metadata": {},
   "outputs": [
    {
     "name": "stdout",
     "output_type": "stream",
     "text": [
      "Test Function is called\n"
     ]
    }
   ],
   "source": [
    "test()"
   ]
  },
  {
   "cell_type": "code",
   "execution_count": 3,
   "id": "65b33542-471e-4997-b1bf-f9f644842ec3",
   "metadata": {},
   "outputs": [],
   "source": [
    "def test():\n",
    "    pass"
   ]
  },
  {
   "cell_type": "code",
   "execution_count": 4,
   "id": "0ad5c3d9-9e6e-4125-a71d-a9b5f6f9a008",
   "metadata": {},
   "outputs": [],
   "source": [
    "test()"
   ]
  },
  {
   "cell_type": "code",
   "execution_count": 5,
   "id": "e64df7e7-9af5-454e-b612-735c766928cf",
   "metadata": {},
   "outputs": [
    {
     "ename": "TypeError",
     "evalue": "unsupported operand type(s) for +: 'NoneType' and 'str'",
     "output_type": "error",
     "traceback": [
      "\u001b[0;31m---------------------------------------------------------------------------\u001b[0m",
      "\u001b[0;31mTypeError\u001b[0m                                 Traceback (most recent call last)",
      "Cell \u001b[0;32mIn[5], line 1\u001b[0m\n\u001b[0;32m----> 1\u001b[0m \u001b[43mtest\u001b[49m\u001b[43m(\u001b[49m\u001b[43m)\u001b[49m\u001b[43m \u001b[49m\u001b[38;5;241;43m+\u001b[39;49m\u001b[43m \u001b[49m\u001b[38;5;124;43m'\u001b[39;49m\u001b[38;5;124;43mAshutosh\u001b[39;49m\u001b[38;5;124;43m'\u001b[39;49m\n",
      "\u001b[0;31mTypeError\u001b[0m: unsupported operand type(s) for +: 'NoneType' and 'str'"
     ]
    }
   ],
   "source": [
    "test() + 'Ashutosh'"
   ]
  },
  {
   "cell_type": "code",
   "execution_count": null,
   "id": "dba97534-097e-44a1-b4bf-dadacc9a8498",
   "metadata": {},
   "outputs": [],
   "source": [
    "def test():\n",
    "    return 'My Name Is '"
   ]
  },
  {
   "cell_type": "code",
   "execution_count": 6,
   "id": "c4584a1f-da75-4717-9168-c89527b2ef8a",
   "metadata": {},
   "outputs": [
    {
     "ename": "TypeError",
     "evalue": "unsupported operand type(s) for +: 'NoneType' and 'str'",
     "output_type": "error",
     "traceback": [
      "\u001b[0;31m---------------------------------------------------------------------------\u001b[0m",
      "\u001b[0;31mTypeError\u001b[0m                                 Traceback (most recent call last)",
      "Cell \u001b[0;32mIn[6], line 1\u001b[0m\n\u001b[0;32m----> 1\u001b[0m \u001b[43mtest\u001b[49m\u001b[43m(\u001b[49m\u001b[43m)\u001b[49m\u001b[38;5;241;43m+\u001b[39;49m\u001b[43m \u001b[49m\u001b[38;5;124;43m'\u001b[39;49m\u001b[38;5;124;43mAshutosh\u001b[39;49m\u001b[38;5;124;43m'\u001b[39;49m\n",
      "\u001b[0;31mTypeError\u001b[0m: unsupported operand type(s) for +: 'NoneType' and 'str'"
     ]
    }
   ],
   "source": [
    "test()+ 'Ashutosh'"
   ]
  },
  {
   "cell_type": "code",
   "execution_count": 7,
   "id": "f1e25198-8e66-4b5c-b8a8-7ae2d7fa3aaa",
   "metadata": {},
   "outputs": [],
   "source": [
    "def multipleReturns():\n",
    "    return 1, 3, 7, 'Ashutosh'"
   ]
  },
  {
   "cell_type": "code",
   "execution_count": 8,
   "id": "c23e9ef1-ee0d-4aa9-a2c7-37ec7a50ccff",
   "metadata": {},
   "outputs": [
    {
     "data": {
      "text/plain": [
       "(1, 3, 7, 'Ashutosh')"
      ]
     },
     "execution_count": 8,
     "metadata": {},
     "output_type": "execute_result"
    }
   ],
   "source": [
    "multipleReturns()"
   ]
  },
  {
   "cell_type": "code",
   "execution_count": 9,
   "id": "5c35d3f3-fc1e-419c-b07b-2a21d8258982",
   "metadata": {},
   "outputs": [],
   "source": [
    "def sumOfNumbers():\n",
    "    a = 2 * 2 + 10 / 2\n",
    "    return a"
   ]
  },
  {
   "cell_type": "code",
   "execution_count": 10,
   "id": "522366d4-b2c7-4cc5-b1b0-32ba33cf907a",
   "metadata": {},
   "outputs": [
    {
     "data": {
      "text/plain": [
       "9.0"
      ]
     },
     "execution_count": 10,
     "metadata": {},
     "output_type": "execute_result"
    }
   ],
   "source": [
    "sumOfNumbers()"
   ]
  },
  {
   "cell_type": "code",
   "execution_count": 11,
   "id": "c0af637f-0884-4a46-a0d6-9f486ba2c033",
   "metadata": {},
   "outputs": [],
   "source": [
    "def sumoftwo(a, b):\n",
    "    return a + b"
   ]
  },
  {
   "cell_type": "code",
   "execution_count": 12,
   "id": "862abc64-3863-4d12-aa87-6af2c1aa1d2e",
   "metadata": {},
   "outputs": [
    {
     "data": {
      "text/plain": [
       "16"
      ]
     },
     "execution_count": 12,
     "metadata": {},
     "output_type": "execute_result"
    }
   ],
   "source": [
    "sumoftwo(7, 9)"
   ]
  },
  {
   "cell_type": "code",
   "execution_count": 13,
   "id": "df4970ad-cdda-42b2-8585-b4fac26cfa7c",
   "metadata": {},
   "outputs": [],
   "source": [
    "def sumoftwo(a, b=10):\n",
    "    return a + b"
   ]
  },
  {
   "cell_type": "code",
   "execution_count": 14,
   "id": "f7232fdc-ab42-4baa-96e2-27a92794deef",
   "metadata": {},
   "outputs": [
    {
     "data": {
      "text/plain": [
       "15"
      ]
     },
     "execution_count": 14,
     "metadata": {},
     "output_type": "execute_result"
    }
   ],
   "source": [
    "sumoftwo(5)"
   ]
  },
  {
   "cell_type": "code",
   "execution_count": 15,
   "id": "d2f73b15-1fbe-4d43-9a99-32b175baba5f",
   "metadata": {},
   "outputs": [],
   "source": [
    "# Return the list which has only numbers after getting list in function\n",
    "\n",
    "def numberList(lst):\n",
    "    num_lst = []\n",
    "    for i in lst:\n",
    "        if type(i) == int or type(i) == float:\n",
    "            num_lst.append(i)\n",
    "    return num_lst"
   ]
  },
  {
   "cell_type": "code",
   "execution_count": 16,
   "id": "71802f3f-b7e7-4cf1-8296-a617fb5c0daf",
   "metadata": {},
   "outputs": [
    {
     "data": {
      "text/plain": [
       "[1, 3, 5, 6]"
      ]
     },
     "execution_count": 16,
     "metadata": {},
     "output_type": "execute_result"
    }
   ],
   "source": [
    "lst = ['abcd', 1, 3, 5, 6, '9', 'fg', 'ashu']\n",
    "numberList(lst)"
   ]
  },
  {
   "cell_type": "code",
   "execution_count": 17,
   "id": "81411c87-c9c4-4e8a-974f-b344d5f765cc",
   "metadata": {},
   "outputs": [
    {
     "name": "stdout",
     "output_type": "stream",
     "text": [
      "(1,)\n",
      "(1, 5, 7, 8, 10, 1232)\n"
     ]
    }
   ],
   "source": [
    "def arguments(*args):\n",
    "    return args\n",
    "\n",
    "print(arguments(1))\n",
    "print(arguments(1, 5, 7, 8, 10, 1232))"
   ]
  },
  {
   "cell_type": "code",
   "execution_count": 2,
   "id": "9ea20585-168e-4292-9e3d-237466225bae",
   "metadata": {},
   "outputs": [
    {
     "data": {
      "text/plain": [
       "{'a': 10, 'b': 20, 'c': ['Apple', 'Banana', 'Orange', 'Kiwi']}"
      ]
     },
     "execution_count": 2,
     "metadata": {},
     "output_type": "execute_result"
    }
   ],
   "source": [
    "def test(**kwargs):\n",
    "    return kwargs\n",
    "\n",
    "\n",
    "test(a=10, b=20, c=['Apple', 'Banana', 'Orange', 'Kiwi'])"
   ]
  },
  {
   "cell_type": "code",
   "execution_count": 3,
   "id": "778fef17-393f-43d8-b69b-7765133c26ff",
   "metadata": {},
   "outputs": [
    {
     "data": {
      "text/plain": [
       "dict"
      ]
     },
     "execution_count": 3,
     "metadata": {},
     "output_type": "execute_result"
    }
   ],
   "source": [
    "type(test())"
   ]
  },
  {
   "cell_type": "code",
   "execution_count": null,
   "id": "9932d2bf-06f4-4ec1-8514-8adf051446c2",
   "metadata": {},
   "outputs": [],
   "source": []
  }
 ],
 "metadata": {
  "kernelspec": {
   "display_name": "Python 3 (ipykernel)",
   "language": "python",
   "name": "python3"
  },
  "language_info": {
   "codemirror_mode": {
    "name": "ipython",
    "version": 3
   },
   "file_extension": ".py",
   "mimetype": "text/x-python",
   "name": "python",
   "nbconvert_exporter": "python",
   "pygments_lexer": "ipython3",
   "version": "3.10.8"
  }
 },
 "nbformat": 4,
 "nbformat_minor": 5
}

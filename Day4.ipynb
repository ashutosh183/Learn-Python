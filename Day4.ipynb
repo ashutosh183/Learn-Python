{
 "cells": [
  {
   "cell_type": "markdown",
   "id": "a042f230-6712-471f-ae83-df28d2692bda",
   "metadata": {},
   "source": [
    "### STRINGS CONTINUE"
   ]
  },
  {
   "cell_type": "code",
   "execution_count": 1,
   "id": "91738002-360a-4d57-93ce-c372441b95f0",
   "metadata": {},
   "outputs": [
    {
     "data": {
      "text/plain": [
       "'nohtyP gninrael ma I'"
      ]
     },
     "execution_count": 1,
     "metadata": {},
     "output_type": "execute_result"
    }
   ],
   "source": [
    "# Reversing a string\n",
    "s = 'I am learning Python'\n",
    "s[::-1]"
   ]
  },
  {
   "cell_type": "code",
   "execution_count": 2,
   "id": "c947f792-ddd4-43f9-b4ae-6de8a278bbb1",
   "metadata": {},
   "outputs": [
    {
     "data": {
      "text/plain": [
       "<reversed at 0x7f353031e500>"
      ]
     },
     "execution_count": 2,
     "metadata": {},
     "output_type": "execute_result"
    }
   ],
   "source": [
    "reversed(s)"
   ]
  },
  {
   "cell_type": "code",
   "execution_count": 3,
   "id": "903d05eb-e576-48c3-951e-f27aa655ad4b",
   "metadata": {},
   "outputs": [
    {
     "data": {
      "text/plain": [
       "'nohtyP gninrael ma I'"
      ]
     },
     "execution_count": 3,
     "metadata": {},
     "output_type": "execute_result"
    }
   ],
   "source": [
    "''.join(reversed(s))"
   ]
  },
  {
   "cell_type": "code",
   "execution_count": 4,
   "id": "d68880de-ab05-49f9-8478-909c74b1994b",
   "metadata": {},
   "outputs": [
    {
     "data": {
      "text/plain": [
       "'PAshutoshaAshutoshnAshutoshdAshutosheAshutoshy'"
      ]
     },
     "execution_count": 4,
     "metadata": {},
     "output_type": "execute_result"
    }
   ],
   "source": [
    "'Ashutosh'.join('Pandey')"
   ]
  },
  {
   "cell_type": "markdown",
   "id": "be2d3d4c-1454-4330-8412-56c35c04f5e3",
   "metadata": {},
   "source": [
    "In join 'Ashutosh'.join(xyz)\n",
    "\n",
    "After every character 'Ashutosh' is appended"
   ]
  },
  {
   "cell_type": "code",
   "execution_count": 5,
   "id": "7fc930f5-eb14-4ce4-8e95-19b9b1d2f310",
   "metadata": {},
   "outputs": [
    {
     "data": {
      "text/plain": [
       "['s', 't', 'i', 'u', 'r', 'F']"
      ]
     },
     "execution_count": 5,
     "metadata": {},
     "output_type": "execute_result"
    }
   ],
   "source": [
    "list(reversed('Fruits'))"
   ]
  },
  {
   "cell_type": "code",
   "execution_count": 6,
   "id": "5090bd89-0a58-4519-ae01-1a64e9e8521e",
   "metadata": {},
   "outputs": [
    {
     "name": "stdout",
     "output_type": "stream",
     "text": [
      "ashu\n"
     ]
    }
   ],
   "source": [
    "# Removing character from the string\n",
    "x = ' ashu '\n",
    "x = x.strip()\n",
    "print(x)"
   ]
  },
  {
   "cell_type": "code",
   "execution_count": 7,
   "id": "d7b84d79-44fe-4e60-af64-b9a027960317",
   "metadata": {},
   "outputs": [
    {
     "name": "stdout",
     "output_type": "stream",
     "text": [
      "ashutosh       \n"
     ]
    }
   ],
   "source": [
    "x = '           ashutosh       '\n",
    "x = x.lstrip()\n",
    "print(x)"
   ]
  },
  {
   "cell_type": "code",
   "execution_count": 8,
   "id": "bfc685e5-f0ec-4ef7-acf6-68ef2d8bc227",
   "metadata": {},
   "outputs": [
    {
     "name": "stdout",
     "output_type": "stream",
     "text": [
      "16\n",
      "14\n"
     ]
    }
   ],
   "source": [
    "x = 'aaaaaaaaaaaaay  '\n",
    "print(len(x))\n",
    "print(len(x.rstrip()))"
   ]
  },
  {
   "cell_type": "code",
   "execution_count": 9,
   "id": "31ae628f-a754-489d-ba07-e8e0f5f0d12b",
   "metadata": {},
   "outputs": [
    {
     "data": {
      "text/plain": [
       "'Greetings and welcome to the python'"
      ]
     },
     "execution_count": 9,
     "metadata": {},
     "output_type": "execute_result"
    }
   ],
   "source": [
    "str1 = 'Greetings and welcome to the learnings'\n",
    "\n",
    "str1.replace('learnings', 'python')"
   ]
  },
  {
   "cell_type": "code",
   "execution_count": 10,
   "id": "600068c1-3a44-4637-bb2e-37a45d17c242",
   "metadata": {},
   "outputs": [
    {
     "name": "stdout",
     "output_type": "stream",
     "text": [
      "Yes x has y as it's end character\n"
     ]
    }
   ],
   "source": [
    "x = 'Ashutosh Pandey'\n",
    "\n",
    "if x.endswith('y'):\n",
    "    print('Yes x has y as it\\'s end character')"
   ]
  },
  {
   "cell_type": "code",
   "execution_count": 11,
   "id": "b21d8944-fc6e-4929-bf2b-17b4019bdc78",
   "metadata": {},
   "outputs": [],
   "source": [
    "x = 'Ashutosh Pandey'\n",
    "\n",
    "if x.startswith('P'):\n",
    "    print('X starts with character P')"
   ]
  },
  {
   "cell_type": "code",
   "execution_count": 12,
   "id": "d3a43292-0958-4319-bcd3-33b81b605c4f",
   "metadata": {},
   "outputs": [
    {
     "name": "stdout",
     "output_type": "stream",
     "text": [
      "Given string is space in  nature\n"
     ]
    }
   ],
   "source": [
    "s = ' '\n",
    "if s.isspace():\n",
    "    print('Given string is space in  nature')"
   ]
  },
  {
   "cell_type": "code",
   "execution_count": 13,
   "id": "1fe7a9ed-7754-4e5a-b269-d195a47cef72",
   "metadata": {},
   "outputs": [
    {
     "name": "stdout",
     "output_type": "stream",
     "text": [
      "s is alphanumeric\n"
     ]
    }
   ],
   "source": [
    "s = 'a124'\n",
    "\n",
    "if s.isalnum():\n",
    "    print('s is alphanumeric')"
   ]
  },
  {
   "cell_type": "code",
   "execution_count": 14,
   "id": "ef0f5ff7-676a-47a0-b452-4ec3fb937530",
   "metadata": {},
   "outputs": [
    {
     "name": "stdout",
     "output_type": "stream",
     "text": [
      "s is alpha\n"
     ]
    }
   ],
   "source": [
    "s = 'ancelngdsglognlkgn'\n",
    "\n",
    "if s.isalpha():\n",
    "    print('s is alpha')"
   ]
  },
  {
   "cell_type": "code",
   "execution_count": 15,
   "id": "e13a68d6-9a4a-4805-87c9-3dfa7045448f",
   "metadata": {},
   "outputs": [
    {
     "name": "stdout",
     "output_type": "stream",
     "text": [
      "40  =  t\n",
      "39  =  s\n",
      "38  =  i\n",
      "37  =  t\n",
      "36  =  n\n",
      "35  =  e\n",
      "34  =  i\n",
      "33  =  c\n",
      "32  =  s\n",
      "31  =   \n",
      "30  =  a\n",
      "29  =  t\n",
      "28  =  a\n",
      "27  =  d\n",
      "26  =   \n",
      "25  =  a\n",
      "24  =   \n",
      "23  =  e\n",
      "22  =  m\n",
      "21  =  o\n",
      "20  =  c\n",
      "19  =  e\n",
      "18  =  b\n",
      "17  =   \n",
      "16  =  o\n",
      "15  =  t\n",
      "14  =   \n",
      "13  =  s\n",
      "12  =  t\n",
      "11  =  n\n",
      "10  =  a\n",
      "9  =  w\n",
      "8  =   \n",
      "7  =  h\n",
      "6  =  s\n",
      "5  =  o\n",
      "4  =  t\n",
      "3  =  u\n",
      "2  =  h\n",
      "1  =  s\n",
      "0  =  A\n"
     ]
    }
   ],
   "source": [
    "x = 'Ashutosh wants to become a data scientist'\n",
    "\n",
    "for i in range(len(x)-1, -1, -1):\n",
    "    print(i, \" = \", x[i]) "
   ]
  },
  {
   "cell_type": "code",
   "execution_count": 16,
   "id": "104c1c68-911f-4113-9177-a93a7e9fee92",
   "metadata": {},
   "outputs": [
    {
     "name": "stdout",
     "output_type": "stream",
     "text": [
      "A u o a o e a a a i e e "
     ]
    }
   ],
   "source": [
    "string = 'Ashutosh wants to learn data science'\n",
    "vowels = 'AaEeIiOoUu'\n",
    "\n",
    "for ch in string:\n",
    "    if ch in vowels:\n",
    "        print(ch, end=\" \")"
   ]
  },
  {
   "cell_type": "markdown",
   "id": "296ea3a9-364d-4b66-9978-8ce37358e919",
   "metadata": {},
   "source": [
    "### LIST"
   ]
  },
  {
   "cell_type": "code",
   "execution_count": 17,
   "id": "ee502f64-34d3-4bd4-9c6c-e2fcfc4f4801",
   "metadata": {},
   "outputs": [
    {
     "data": {
      "text/plain": [
       "list"
      ]
     },
     "execution_count": 17,
     "metadata": {},
     "output_type": "execute_result"
    }
   ],
   "source": [
    "type([])"
   ]
  },
  {
   "cell_type": "code",
   "execution_count": 18,
   "id": "2308d261-f1b0-4fdb-b144-19a2a7f27928",
   "metadata": {},
   "outputs": [],
   "source": [
    "lst = ['Ashutosh', 'Pandey', 'Virat', 'Kohli']"
   ]
  },
  {
   "cell_type": "code",
   "execution_count": 19,
   "id": "595171d4-c443-495d-87b4-2e849bce181b",
   "metadata": {},
   "outputs": [
    {
     "name": "stdout",
     "output_type": "stream",
     "text": [
      "['Ashutosh', 'Pandey', 'Virat', 'Kohli']\n"
     ]
    }
   ],
   "source": [
    "print(lst)"
   ]
  },
  {
   "cell_type": "code",
   "execution_count": 20,
   "id": "7323aca0-51dc-4abf-8dae-4e2932789135",
   "metadata": {},
   "outputs": [
    {
     "name": "stdout",
     "output_type": "stream",
     "text": [
      "Ashutosh\n",
      "Pandey\n",
      "Virat\n",
      "Kohli\n"
     ]
    }
   ],
   "source": [
    "for item in lst:\n",
    "    print(item)"
   ]
  },
  {
   "cell_type": "code",
   "execution_count": 21,
   "id": "ff4f5315-d4fa-4e8d-8c29-202833d3cef5",
   "metadata": {},
   "outputs": [
    {
     "data": {
      "text/plain": [
       "list"
      ]
     },
     "execution_count": 21,
     "metadata": {},
     "output_type": "execute_result"
    }
   ],
   "source": [
    "s = 'Ashutosh Mani Srikantan Burma Deepak'\n",
    "type(s.split(' '))"
   ]
  },
  {
   "cell_type": "code",
   "execution_count": 22,
   "id": "166aa524-4b53-4e6e-9927-647be7f66422",
   "metadata": {},
   "outputs": [],
   "source": [
    "lst = lst + ['Mani', 'Srikantan', 'Deepak', 'Burma']"
   ]
  },
  {
   "cell_type": "code",
   "execution_count": 23,
   "id": "4e75bad4-c4eb-4f74-8cdd-ae07e0f39b58",
   "metadata": {},
   "outputs": [
    {
     "name": "stdout",
     "output_type": "stream",
     "text": [
      "['Ashutosh', 'Pandey', 'Virat', 'Kohli', 'Mani', 'Srikantan', 'Deepak', 'Burma']\n"
     ]
    }
   ],
   "source": [
    "print(lst)"
   ]
  },
  {
   "cell_type": "code",
   "execution_count": 24,
   "id": "db2fe1b8-65bf-4e06-9b40-33bdb21d180f",
   "metadata": {},
   "outputs": [
    {
     "name": "stdout",
     "output_type": "stream",
     "text": [
      "['Ashutosh', 'Pandey', 'Virat', 'Kohli', 'Mani', 'Srikantan', 'Deepak', 'Burma', 'Idiots']\n"
     ]
    }
   ],
   "source": [
    "lst.append('Idiots')\n",
    "print(lst)"
   ]
  },
  {
   "cell_type": "code",
   "execution_count": 25,
   "id": "cd73d8bc-d595-4164-badc-b246e22a9d13",
   "metadata": {},
   "outputs": [],
   "source": [
    "lst.extend(lst)"
   ]
  },
  {
   "cell_type": "code",
   "execution_count": 26,
   "id": "f2a422df-3708-4f8e-82a8-b1fb4264e079",
   "metadata": {},
   "outputs": [
    {
     "name": "stdout",
     "output_type": "stream",
     "text": [
      "['Ashutosh', 'Pandey', 'Virat', 'Kohli', 'Mani', 'Srikantan', 'Deepak', 'Burma', 'Idiots', 'Ashutosh', 'Pandey', 'Virat', 'Kohli', 'Mani', 'Srikantan', 'Deepak', 'Burma', 'Idiots']\n"
     ]
    }
   ],
   "source": [
    "print(lst)"
   ]
  },
  {
   "cell_type": "code",
   "execution_count": 27,
   "id": "c4599dbd-87c3-437b-a852-d508c8d0c2ef",
   "metadata": {},
   "outputs": [
    {
     "data": {
      "text/plain": [
       "['Ashutosh',\n",
       " 'Pandey',\n",
       " 'Virat',\n",
       " 'Kohli',\n",
       " 'Mani',\n",
       " 'Srikantan',\n",
       " 'Deepak',\n",
       " 'Burma',\n",
       " 'Idiots',\n",
       " 'Ashutosh',\n",
       " 'Pandey',\n",
       " 'Virat',\n",
       " 'Kohli',\n",
       " 'Mani',\n",
       " 'Srikantan',\n",
       " 'Deepak',\n",
       " 'Burma',\n",
       " 'Idiots',\n",
       " 'Ashutosh',\n",
       " 'Pandey',\n",
       " 'Virat',\n",
       " 'Kohli',\n",
       " 'Mani',\n",
       " 'Srikantan',\n",
       " 'Deepak',\n",
       " 'Burma',\n",
       " 'Idiots',\n",
       " 'Ashutosh',\n",
       " 'Pandey',\n",
       " 'Virat',\n",
       " 'Kohli',\n",
       " 'Mani',\n",
       " 'Srikantan',\n",
       " 'Deepak',\n",
       " 'Burma',\n",
       " 'Idiots',\n",
       " 'Ashutosh',\n",
       " 'Pandey',\n",
       " 'Virat',\n",
       " 'Kohli',\n",
       " 'Mani',\n",
       " 'Srikantan',\n",
       " 'Deepak',\n",
       " 'Burma',\n",
       " 'Idiots',\n",
       " 'Ashutosh',\n",
       " 'Pandey',\n",
       " 'Virat',\n",
       " 'Kohli',\n",
       " 'Mani',\n",
       " 'Srikantan',\n",
       " 'Deepak',\n",
       " 'Burma',\n",
       " 'Idiots',\n",
       " 'Ashutosh',\n",
       " 'Pandey',\n",
       " 'Virat',\n",
       " 'Kohli',\n",
       " 'Mani',\n",
       " 'Srikantan',\n",
       " 'Deepak',\n",
       " 'Burma',\n",
       " 'Idiots',\n",
       " 'Ashutosh',\n",
       " 'Pandey',\n",
       " 'Virat',\n",
       " 'Kohli',\n",
       " 'Mani',\n",
       " 'Srikantan',\n",
       " 'Deepak',\n",
       " 'Burma',\n",
       " 'Idiots',\n",
       " 'Ashutosh',\n",
       " 'Pandey',\n",
       " 'Virat',\n",
       " 'Kohli',\n",
       " 'Mani',\n",
       " 'Srikantan',\n",
       " 'Deepak',\n",
       " 'Burma',\n",
       " 'Idiots',\n",
       " 'Ashutosh',\n",
       " 'Pandey',\n",
       " 'Virat',\n",
       " 'Kohli',\n",
       " 'Mani',\n",
       " 'Srikantan',\n",
       " 'Deepak',\n",
       " 'Burma',\n",
       " 'Idiots',\n",
       " 'Ashutosh',\n",
       " 'Pandey',\n",
       " 'Virat',\n",
       " 'Kohli',\n",
       " 'Mani',\n",
       " 'Srikantan',\n",
       " 'Deepak',\n",
       " 'Burma',\n",
       " 'Idiots',\n",
       " 'Ashutosh',\n",
       " 'Pandey',\n",
       " 'Virat',\n",
       " 'Kohli',\n",
       " 'Mani',\n",
       " 'Srikantan',\n",
       " 'Deepak',\n",
       " 'Burma',\n",
       " 'Idiots',\n",
       " 'Ashutosh',\n",
       " 'Pandey',\n",
       " 'Virat',\n",
       " 'Kohli',\n",
       " 'Mani',\n",
       " 'Srikantan',\n",
       " 'Deepak',\n",
       " 'Burma',\n",
       " 'Idiots',\n",
       " 'Ashutosh',\n",
       " 'Pandey',\n",
       " 'Virat',\n",
       " 'Kohli',\n",
       " 'Mani',\n",
       " 'Srikantan',\n",
       " 'Deepak',\n",
       " 'Burma',\n",
       " 'Idiots',\n",
       " 'Ashutosh',\n",
       " 'Pandey',\n",
       " 'Virat',\n",
       " 'Kohli',\n",
       " 'Mani',\n",
       " 'Srikantan',\n",
       " 'Deepak',\n",
       " 'Burma',\n",
       " 'Idiots',\n",
       " 'Ashutosh',\n",
       " 'Pandey',\n",
       " 'Virat',\n",
       " 'Kohli',\n",
       " 'Mani',\n",
       " 'Srikantan',\n",
       " 'Deepak',\n",
       " 'Burma',\n",
       " 'Idiots',\n",
       " 'Ashutosh',\n",
       " 'Pandey',\n",
       " 'Virat',\n",
       " 'Kohli',\n",
       " 'Mani',\n",
       " 'Srikantan',\n",
       " 'Deepak',\n",
       " 'Burma',\n",
       " 'Idiots',\n",
       " 'Ashutosh',\n",
       " 'Pandey',\n",
       " 'Virat',\n",
       " 'Kohli',\n",
       " 'Mani',\n",
       " 'Srikantan',\n",
       " 'Deepak',\n",
       " 'Burma',\n",
       " 'Idiots',\n",
       " 'Ashutosh',\n",
       " 'Pandey',\n",
       " 'Virat',\n",
       " 'Kohli',\n",
       " 'Mani',\n",
       " 'Srikantan',\n",
       " 'Deepak',\n",
       " 'Burma',\n",
       " 'Idiots',\n",
       " 'Ashutosh',\n",
       " 'Pandey',\n",
       " 'Virat',\n",
       " 'Kohli',\n",
       " 'Mani',\n",
       " 'Srikantan',\n",
       " 'Deepak',\n",
       " 'Burma',\n",
       " 'Idiots',\n",
       " 'Ashutosh',\n",
       " 'Pandey',\n",
       " 'Virat',\n",
       " 'Kohli',\n",
       " 'Mani',\n",
       " 'Srikantan',\n",
       " 'Deepak',\n",
       " 'Burma',\n",
       " 'Idiots',\n",
       " 'Ashutosh',\n",
       " 'Pandey',\n",
       " 'Virat',\n",
       " 'Kohli',\n",
       " 'Mani',\n",
       " 'Srikantan',\n",
       " 'Deepak',\n",
       " 'Burma',\n",
       " 'Idiots',\n",
       " 'Ashutosh',\n",
       " 'Pandey',\n",
       " 'Virat',\n",
       " 'Kohli',\n",
       " 'Mani',\n",
       " 'Srikantan',\n",
       " 'Deepak',\n",
       " 'Burma',\n",
       " 'Idiots',\n",
       " 'Ashutosh',\n",
       " 'Pandey',\n",
       " 'Virat',\n",
       " 'Kohli',\n",
       " 'Mani',\n",
       " 'Srikantan',\n",
       " 'Deepak',\n",
       " 'Burma',\n",
       " 'Idiots',\n",
       " 'Ashutosh',\n",
       " 'Pandey',\n",
       " 'Virat',\n",
       " 'Kohli',\n",
       " 'Mani',\n",
       " 'Srikantan',\n",
       " 'Deepak',\n",
       " 'Burma',\n",
       " 'Idiots',\n",
       " 'Ashutosh',\n",
       " 'Pandey',\n",
       " 'Virat',\n",
       " 'Kohli',\n",
       " 'Mani',\n",
       " 'Srikantan',\n",
       " 'Deepak',\n",
       " 'Burma',\n",
       " 'Idiots',\n",
       " 'Ashutosh',\n",
       " 'Pandey',\n",
       " 'Virat',\n",
       " 'Kohli',\n",
       " 'Mani',\n",
       " 'Srikantan',\n",
       " 'Deepak',\n",
       " 'Burma',\n",
       " 'Idiots',\n",
       " 'Ashutosh',\n",
       " 'Pandey',\n",
       " 'Virat',\n",
       " 'Kohli',\n",
       " 'Mani',\n",
       " 'Srikantan',\n",
       " 'Deepak',\n",
       " 'Burma',\n",
       " 'Idiots',\n",
       " 'Ashutosh',\n",
       " 'Pandey',\n",
       " 'Virat',\n",
       " 'Kohli',\n",
       " 'Mani',\n",
       " 'Srikantan',\n",
       " 'Deepak',\n",
       " 'Burma',\n",
       " 'Idiots',\n",
       " 'Ashutosh',\n",
       " 'Pandey',\n",
       " 'Virat',\n",
       " 'Kohli',\n",
       " 'Mani',\n",
       " 'Srikantan',\n",
       " 'Deepak',\n",
       " 'Burma',\n",
       " 'Idiots',\n",
       " 'Ashutosh',\n",
       " 'Pandey',\n",
       " 'Virat',\n",
       " 'Kohli',\n",
       " 'Mani',\n",
       " 'Srikantan',\n",
       " 'Deepak',\n",
       " 'Burma',\n",
       " 'Idiots',\n",
       " 'Ashutosh',\n",
       " 'Pandey',\n",
       " 'Virat',\n",
       " 'Kohli',\n",
       " 'Mani',\n",
       " 'Srikantan',\n",
       " 'Deepak',\n",
       " 'Burma',\n",
       " 'Idiots',\n",
       " 'Ashutosh',\n",
       " 'Pandey',\n",
       " 'Virat',\n",
       " 'Kohli',\n",
       " 'Mani',\n",
       " 'Srikantan',\n",
       " 'Deepak',\n",
       " 'Burma',\n",
       " 'Idiots',\n",
       " 'Ashutosh',\n",
       " 'Pandey',\n",
       " 'Virat',\n",
       " 'Kohli',\n",
       " 'Mani',\n",
       " 'Srikantan',\n",
       " 'Deepak',\n",
       " 'Burma',\n",
       " 'Idiots',\n",
       " 'Ashutosh',\n",
       " 'Pandey',\n",
       " 'Virat',\n",
       " 'Kohli',\n",
       " 'Mani',\n",
       " 'Srikantan',\n",
       " 'Deepak',\n",
       " 'Burma',\n",
       " 'Idiots',\n",
       " 'Ashutosh',\n",
       " 'Pandey',\n",
       " 'Virat',\n",
       " 'Kohli',\n",
       " 'Mani',\n",
       " 'Srikantan',\n",
       " 'Deepak',\n",
       " 'Burma',\n",
       " 'Idiots',\n",
       " 'Ashutosh',\n",
       " 'Pandey',\n",
       " 'Virat',\n",
       " 'Kohli',\n",
       " 'Mani',\n",
       " 'Srikantan',\n",
       " 'Deepak',\n",
       " 'Burma',\n",
       " 'Idiots',\n",
       " 'Ashutosh',\n",
       " 'Pandey',\n",
       " 'Virat',\n",
       " 'Kohli',\n",
       " 'Mani',\n",
       " 'Srikantan',\n",
       " 'Deepak',\n",
       " 'Burma',\n",
       " 'Idiots',\n",
       " 'Ashutosh',\n",
       " 'Pandey',\n",
       " 'Virat',\n",
       " 'Kohli',\n",
       " 'Mani',\n",
       " 'Srikantan',\n",
       " 'Deepak',\n",
       " 'Burma',\n",
       " 'Idiots',\n",
       " 'Ashutosh',\n",
       " 'Pandey',\n",
       " 'Virat',\n",
       " 'Kohli',\n",
       " 'Mani',\n",
       " 'Srikantan',\n",
       " 'Deepak',\n",
       " 'Burma',\n",
       " 'Idiots',\n",
       " 'Ashutosh',\n",
       " 'Pandey',\n",
       " 'Virat',\n",
       " 'Kohli',\n",
       " 'Mani',\n",
       " 'Srikantan',\n",
       " 'Deepak',\n",
       " 'Burma',\n",
       " 'Idiots',\n",
       " 'Ashutosh',\n",
       " 'Pandey',\n",
       " 'Virat',\n",
       " 'Kohli',\n",
       " 'Mani',\n",
       " 'Srikantan',\n",
       " 'Deepak',\n",
       " 'Burma',\n",
       " 'Idiots',\n",
       " 'Ashutosh',\n",
       " 'Pandey',\n",
       " 'Virat',\n",
       " 'Kohli',\n",
       " 'Mani',\n",
       " 'Srikantan',\n",
       " 'Deepak',\n",
       " 'Burma',\n",
       " 'Idiots',\n",
       " 'Ashutosh',\n",
       " 'Pandey',\n",
       " 'Virat',\n",
       " 'Kohli',\n",
       " 'Mani',\n",
       " 'Srikantan',\n",
       " 'Deepak',\n",
       " 'Burma',\n",
       " 'Idiots',\n",
       " 'Ashutosh',\n",
       " 'Pandey',\n",
       " 'Virat',\n",
       " 'Kohli',\n",
       " 'Mani',\n",
       " 'Srikantan',\n",
       " 'Deepak',\n",
       " 'Burma',\n",
       " 'Idiots',\n",
       " 'Ashutosh',\n",
       " 'Pandey',\n",
       " 'Virat',\n",
       " 'Kohli',\n",
       " 'Mani',\n",
       " 'Srikantan',\n",
       " 'Deepak',\n",
       " 'Burma',\n",
       " 'Idiots',\n",
       " 'Ashutosh',\n",
       " 'Pandey',\n",
       " 'Virat',\n",
       " 'Kohli',\n",
       " 'Mani',\n",
       " 'Srikantan',\n",
       " 'Deepak',\n",
       " 'Burma',\n",
       " 'Idiots',\n",
       " 'Ashutosh',\n",
       " 'Pandey',\n",
       " 'Virat',\n",
       " 'Kohli',\n",
       " 'Mani',\n",
       " 'Srikantan',\n",
       " 'Deepak',\n",
       " 'Burma',\n",
       " 'Idiots',\n",
       " 'Ashutosh',\n",
       " 'Pandey',\n",
       " 'Virat',\n",
       " 'Kohli',\n",
       " 'Mani',\n",
       " 'Srikantan',\n",
       " 'Deepak',\n",
       " 'Burma',\n",
       " 'Idiots',\n",
       " 'Ashutosh',\n",
       " 'Pandey',\n",
       " 'Virat',\n",
       " 'Kohli',\n",
       " 'Mani',\n",
       " 'Srikantan',\n",
       " 'Deepak',\n",
       " 'Burma',\n",
       " 'Idiots',\n",
       " 'Ashutosh',\n",
       " 'Pandey',\n",
       " 'Virat',\n",
       " 'Kohli',\n",
       " 'Mani',\n",
       " 'Srikantan',\n",
       " 'Deepak',\n",
       " 'Burma',\n",
       " 'Idiots',\n",
       " 'Ashutosh',\n",
       " 'Pandey',\n",
       " 'Virat',\n",
       " 'Kohli',\n",
       " 'Mani',\n",
       " 'Srikantan',\n",
       " 'Deepak',\n",
       " 'Burma',\n",
       " 'Idiots',\n",
       " 'Ashutosh',\n",
       " 'Pandey',\n",
       " 'Virat',\n",
       " 'Kohli',\n",
       " 'Mani',\n",
       " 'Srikantan',\n",
       " 'Deepak',\n",
       " 'Burma',\n",
       " 'Idiots',\n",
       " 'Ashutosh',\n",
       " 'Pandey',\n",
       " 'Virat',\n",
       " 'Kohli',\n",
       " 'Mani',\n",
       " 'Srikantan',\n",
       " 'Deepak',\n",
       " 'Burma',\n",
       " 'Idiots',\n",
       " 'Ashutosh',\n",
       " 'Pandey',\n",
       " 'Virat',\n",
       " 'Kohli',\n",
       " 'Mani',\n",
       " 'Srikantan',\n",
       " 'Deepak',\n",
       " 'Burma',\n",
       " 'Idiots',\n",
       " 'Ashutosh',\n",
       " 'Pandey',\n",
       " 'Virat',\n",
       " 'Kohli',\n",
       " 'Mani',\n",
       " 'Srikantan',\n",
       " 'Deepak',\n",
       " 'Burma',\n",
       " 'Idiots',\n",
       " 'Ashutosh',\n",
       " 'Pandey',\n",
       " 'Virat',\n",
       " 'Kohli',\n",
       " 'Mani',\n",
       " 'Srikantan',\n",
       " 'Deepak',\n",
       " 'Burma',\n",
       " 'Idiots',\n",
       " 'Ashutosh',\n",
       " 'Pandey',\n",
       " 'Virat',\n",
       " 'Kohli',\n",
       " 'Mani',\n",
       " 'Srikantan',\n",
       " 'Deepak',\n",
       " 'Burma',\n",
       " 'Idiots',\n",
       " 'Ashutosh',\n",
       " 'Pandey',\n",
       " 'Virat',\n",
       " 'Kohli',\n",
       " 'Mani',\n",
       " 'Srikantan',\n",
       " 'Deepak',\n",
       " 'Burma',\n",
       " 'Idiots',\n",
       " 'Ashutosh',\n",
       " 'Pandey',\n",
       " 'Virat',\n",
       " 'Kohli',\n",
       " 'Mani',\n",
       " 'Srikantan',\n",
       " 'Deepak',\n",
       " 'Burma',\n",
       " 'Idiots',\n",
       " 'Ashutosh',\n",
       " 'Pandey',\n",
       " 'Virat',\n",
       " 'Kohli',\n",
       " 'Mani',\n",
       " 'Srikantan',\n",
       " 'Deepak',\n",
       " 'Burma',\n",
       " 'Idiots',\n",
       " 'Ashutosh',\n",
       " 'Pandey',\n",
       " 'Virat',\n",
       " 'Kohli',\n",
       " 'Mani',\n",
       " 'Srikantan',\n",
       " 'Deepak',\n",
       " 'Burma',\n",
       " 'Idiots',\n",
       " 'Ashutosh',\n",
       " 'Pandey',\n",
       " 'Virat',\n",
       " 'Kohli',\n",
       " 'Mani',\n",
       " 'Srikantan',\n",
       " 'Deepak',\n",
       " 'Burma',\n",
       " 'Idiots',\n",
       " 'Ashutosh',\n",
       " 'Pandey',\n",
       " 'Virat',\n",
       " 'Kohli',\n",
       " 'Mani',\n",
       " 'Srikantan',\n",
       " 'Deepak',\n",
       " 'Burma',\n",
       " 'Idiots',\n",
       " 'Ashutosh',\n",
       " 'Pandey',\n",
       " 'Virat',\n",
       " 'Kohli',\n",
       " 'Mani',\n",
       " 'Srikantan',\n",
       " 'Deepak',\n",
       " 'Burma',\n",
       " 'Idiots',\n",
       " 'Ashutosh',\n",
       " 'Pandey',\n",
       " 'Virat',\n",
       " 'Kohli',\n",
       " 'Mani',\n",
       " 'Srikantan',\n",
       " 'Deepak',\n",
       " 'Burma',\n",
       " 'Idiots',\n",
       " 'Ashutosh',\n",
       " 'Pandey',\n",
       " 'Virat',\n",
       " 'Kohli',\n",
       " 'Mani',\n",
       " 'Srikantan',\n",
       " 'Deepak',\n",
       " 'Burma',\n",
       " 'Idiots',\n",
       " 'Ashutosh',\n",
       " 'Pandey',\n",
       " 'Virat',\n",
       " 'Kohli',\n",
       " 'Mani',\n",
       " 'Srikantan',\n",
       " 'Deepak',\n",
       " 'Burma',\n",
       " 'Idiots',\n",
       " 'Ashutosh',\n",
       " 'Pandey',\n",
       " 'Virat',\n",
       " 'Kohli',\n",
       " 'Mani',\n",
       " 'Srikantan',\n",
       " 'Deepak',\n",
       " 'Burma',\n",
       " 'Idiots',\n",
       " 'Ashutosh',\n",
       " 'Pandey',\n",
       " 'Virat',\n",
       " 'Kohli',\n",
       " 'Mani',\n",
       " 'Srikantan',\n",
       " 'Deepak',\n",
       " 'Burma',\n",
       " 'Idiots',\n",
       " 'Ashutosh',\n",
       " 'Pandey',\n",
       " 'Virat',\n",
       " 'Kohli',\n",
       " 'Mani',\n",
       " 'Srikantan',\n",
       " 'Deepak',\n",
       " 'Burma',\n",
       " 'Idiots',\n",
       " 'Ashutosh',\n",
       " 'Pandey',\n",
       " 'Virat',\n",
       " 'Kohli',\n",
       " 'Mani',\n",
       " 'Srikantan',\n",
       " 'Deepak',\n",
       " 'Burma',\n",
       " 'Idiots',\n",
       " 'Ashutosh',\n",
       " 'Pandey',\n",
       " 'Virat',\n",
       " 'Kohli',\n",
       " 'Mani',\n",
       " 'Srikantan',\n",
       " 'Deepak',\n",
       " 'Burma',\n",
       " 'Idiots',\n",
       " 'Ashutosh',\n",
       " 'Pandey',\n",
       " 'Virat',\n",
       " 'Kohli',\n",
       " 'Mani',\n",
       " 'Srikantan',\n",
       " 'Deepak',\n",
       " 'Burma',\n",
       " 'Idiots',\n",
       " 'Ashutosh',\n",
       " 'Pandey',\n",
       " 'Virat',\n",
       " 'Kohli',\n",
       " 'Mani',\n",
       " 'Srikantan',\n",
       " 'Deepak',\n",
       " 'Burma',\n",
       " 'Idiots',\n",
       " 'Ashutosh',\n",
       " 'Pandey',\n",
       " 'Virat',\n",
       " 'Kohli',\n",
       " 'Mani',\n",
       " 'Srikantan',\n",
       " 'Deepak',\n",
       " 'Burma',\n",
       " 'Idiots',\n",
       " 'Ashutosh',\n",
       " 'Pandey',\n",
       " 'Virat',\n",
       " 'Kohli',\n",
       " 'Mani',\n",
       " 'Srikantan',\n",
       " 'Deepak',\n",
       " 'Burma',\n",
       " 'Idiots',\n",
       " 'Ashutosh',\n",
       " 'Pandey',\n",
       " 'Virat',\n",
       " 'Kohli',\n",
       " 'Mani',\n",
       " 'Srikantan',\n",
       " 'Deepak',\n",
       " 'Burma',\n",
       " 'Idiots',\n",
       " 'Ashutosh',\n",
       " 'Pandey',\n",
       " 'Virat',\n",
       " 'Kohli',\n",
       " 'Mani',\n",
       " 'Srikantan',\n",
       " 'Deepak',\n",
       " 'Burma',\n",
       " 'Idiots',\n",
       " 'Ashutosh',\n",
       " 'Pandey',\n",
       " 'Virat',\n",
       " 'Kohli',\n",
       " 'Mani',\n",
       " 'Srikantan',\n",
       " 'Deepak',\n",
       " 'Burma',\n",
       " 'Idiots',\n",
       " 'Ashutosh',\n",
       " 'Pandey',\n",
       " 'Virat',\n",
       " 'Kohli',\n",
       " 'Mani',\n",
       " 'Srikantan',\n",
       " 'Deepak',\n",
       " 'Burma',\n",
       " 'Idiots',\n",
       " 'Ashutosh',\n",
       " 'Pandey',\n",
       " 'Virat',\n",
       " 'Kohli',\n",
       " 'Mani',\n",
       " 'Srikantan',\n",
       " 'Deepak',\n",
       " 'Burma',\n",
       " 'Idiots',\n",
       " 'Ashutosh',\n",
       " 'Pandey',\n",
       " 'Virat',\n",
       " 'Kohli',\n",
       " 'Mani',\n",
       " 'Srikantan',\n",
       " 'Deepak',\n",
       " 'Burma',\n",
       " 'Idiots',\n",
       " 'Ashutosh',\n",
       " 'Pandey',\n",
       " 'Virat',\n",
       " 'Kohli',\n",
       " 'Mani',\n",
       " 'Srikantan',\n",
       " 'Deepak',\n",
       " 'Burma',\n",
       " 'Idiots',\n",
       " 'Ashutosh',\n",
       " 'Pandey',\n",
       " 'Virat',\n",
       " 'Kohli',\n",
       " 'Mani',\n",
       " 'Srikantan',\n",
       " 'Deepak',\n",
       " 'Burma',\n",
       " 'Idiots',\n",
       " 'Ashutosh',\n",
       " 'Pandey',\n",
       " 'Virat',\n",
       " 'Kohli',\n",
       " 'Mani',\n",
       " 'Srikantan',\n",
       " 'Deepak',\n",
       " 'Burma',\n",
       " 'Idiots',\n",
       " 'Ashutosh',\n",
       " 'Pandey',\n",
       " 'Virat',\n",
       " 'Kohli',\n",
       " 'Mani',\n",
       " 'Srikantan',\n",
       " 'Deepak',\n",
       " 'Burma',\n",
       " 'Idiots',\n",
       " 'Ashutosh',\n",
       " 'Pandey',\n",
       " 'Virat',\n",
       " 'Kohli',\n",
       " 'Mani',\n",
       " 'Srikantan',\n",
       " 'Deepak',\n",
       " 'Burma',\n",
       " 'Idiots',\n",
       " 'Ashutosh',\n",
       " 'Pandey',\n",
       " 'Virat',\n",
       " 'Kohli',\n",
       " 'Mani',\n",
       " 'Srikantan',\n",
       " 'Deepak',\n",
       " 'Burma',\n",
       " 'Idiots',\n",
       " 'Ashutosh',\n",
       " 'Pandey',\n",
       " 'Virat',\n",
       " 'Kohli',\n",
       " 'Mani',\n",
       " 'Srikantan',\n",
       " 'Deepak',\n",
       " 'Burma',\n",
       " 'Idiots',\n",
       " 'Ashutosh',\n",
       " 'Pandey',\n",
       " 'Virat',\n",
       " 'Kohli',\n",
       " 'Mani',\n",
       " 'Srikantan',\n",
       " 'Deepak',\n",
       " 'Burma',\n",
       " 'Idiots',\n",
       " 'Ashutosh',\n",
       " 'Pandey',\n",
       " 'Virat',\n",
       " 'Kohli',\n",
       " 'Mani',\n",
       " 'Srikantan',\n",
       " 'Deepak',\n",
       " 'Burma',\n",
       " 'Idiots',\n",
       " 'Ashutosh',\n",
       " 'Pandey',\n",
       " 'Virat',\n",
       " 'Kohli',\n",
       " 'Mani',\n",
       " 'Srikantan',\n",
       " 'Deepak',\n",
       " 'Burma',\n",
       " 'Idiots',\n",
       " 'Ashutosh',\n",
       " 'Pandey',\n",
       " 'Virat',\n",
       " 'Kohli',\n",
       " 'Mani',\n",
       " 'Srikantan',\n",
       " 'Deepak',\n",
       " 'Burma',\n",
       " 'Idiots',\n",
       " 'Ashutosh',\n",
       " 'Pandey',\n",
       " 'Virat',\n",
       " 'Kohli',\n",
       " 'Mani',\n",
       " 'Srikantan',\n",
       " 'Deepak',\n",
       " 'Burma',\n",
       " 'Idiots',\n",
       " 'Ashutosh',\n",
       " 'Pandey',\n",
       " 'Virat',\n",
       " 'Kohli',\n",
       " 'Mani',\n",
       " 'Srikantan',\n",
       " 'Deepak',\n",
       " 'Burma',\n",
       " 'Idiots',\n",
       " 'Ashutosh',\n",
       " 'Pandey',\n",
       " 'Virat',\n",
       " 'Kohli',\n",
       " 'Mani',\n",
       " 'Srikantan',\n",
       " 'Deepak',\n",
       " 'Burma',\n",
       " 'Idiots',\n",
       " 'Ashutosh',\n",
       " 'Pandey',\n",
       " 'Virat',\n",
       " 'Kohli',\n",
       " 'Mani',\n",
       " 'Srikantan',\n",
       " 'Deepak',\n",
       " 'Burma',\n",
       " 'Idiots',\n",
       " 'Ashutosh',\n",
       " 'Pandey',\n",
       " 'Virat',\n",
       " 'Kohli',\n",
       " 'Mani',\n",
       " 'Srikantan',\n",
       " 'Deepak',\n",
       " 'Burma',\n",
       " 'Idiots',\n",
       " 'Ashutosh',\n",
       " 'Pandey',\n",
       " 'Virat',\n",
       " 'Kohli',\n",
       " 'Mani',\n",
       " 'Srikantan',\n",
       " 'Deepak',\n",
       " 'Burma',\n",
       " 'Idiots',\n",
       " 'Ashutosh',\n",
       " 'Pandey',\n",
       " 'Virat',\n",
       " 'Kohli',\n",
       " 'Mani',\n",
       " 'Srikantan',\n",
       " 'Deepak',\n",
       " 'Burma',\n",
       " 'Idiots',\n",
       " 'Ashutosh',\n",
       " 'Pandey',\n",
       " 'Virat',\n",
       " 'Kohli',\n",
       " 'Mani',\n",
       " 'Srikantan',\n",
       " 'Deepak',\n",
       " 'Burma',\n",
       " 'Idiots',\n",
       " 'Ashutosh',\n",
       " 'Pandey',\n",
       " 'Virat',\n",
       " 'Kohli',\n",
       " 'Mani',\n",
       " 'Srikantan',\n",
       " 'Deepak',\n",
       " 'Burma',\n",
       " 'Idiots',\n",
       " 'Ashutosh',\n",
       " 'Pandey',\n",
       " 'Virat',\n",
       " 'Kohli',\n",
       " 'Mani',\n",
       " 'Srikantan',\n",
       " 'Deepak',\n",
       " 'Burma',\n",
       " 'Idiots',\n",
       " 'Ashutosh',\n",
       " 'Pandey',\n",
       " 'Virat',\n",
       " 'Kohli',\n",
       " 'Mani',\n",
       " 'Srikantan',\n",
       " 'Deepak',\n",
       " 'Burma',\n",
       " 'Idiots',\n",
       " 'Ashutosh',\n",
       " 'Pandey',\n",
       " 'Virat',\n",
       " 'Kohli',\n",
       " 'Mani',\n",
       " 'Srikantan',\n",
       " 'Deepak',\n",
       " 'Burma',\n",
       " 'Idiots',\n",
       " 'Ashutosh',\n",
       " 'Pandey',\n",
       " 'Virat',\n",
       " 'Kohli',\n",
       " 'Mani',\n",
       " 'Srikantan',\n",
       " 'Deepak',\n",
       " 'Burma',\n",
       " 'Idiots',\n",
       " 'Ashutosh',\n",
       " 'Pandey',\n",
       " 'Virat',\n",
       " 'Kohli',\n",
       " 'Mani',\n",
       " 'Srikantan',\n",
       " 'Deepak',\n",
       " 'Burma',\n",
       " 'Idiots',\n",
       " 'Ashutosh',\n",
       " 'Pandey',\n",
       " 'Virat',\n",
       " 'Kohli',\n",
       " 'Mani',\n",
       " 'Srikantan',\n",
       " 'Deepak',\n",
       " 'Burma',\n",
       " 'Idiots',\n",
       " 'Ashutosh',\n",
       " 'Pandey',\n",
       " 'Virat',\n",
       " 'Kohli',\n",
       " 'Mani',\n",
       " 'Srikantan',\n",
       " 'Deepak',\n",
       " 'Burma',\n",
       " 'Idiots',\n",
       " 'Ashutosh',\n",
       " 'Pandey',\n",
       " 'Virat',\n",
       " 'Kohli',\n",
       " 'Mani',\n",
       " 'Srikantan',\n",
       " 'Deepak',\n",
       " 'Burma',\n",
       " 'Idiots',\n",
       " 'Ashutosh',\n",
       " ...]"
      ]
     },
     "execution_count": 27,
     "metadata": {},
     "output_type": "execute_result"
    }
   ],
   "source": [
    "lst * 100"
   ]
  },
  {
   "cell_type": "code",
   "execution_count": 28,
   "id": "42259dbf-9a5b-432c-8ace-c04cdee65869",
   "metadata": {},
   "outputs": [
    {
     "data": {
      "text/plain": [
       "False"
      ]
     },
     "execution_count": 28,
     "metadata": {},
     "output_type": "execute_result"
    }
   ],
   "source": [
    "num_lst = [1, 2, 4, 5]\n",
    "\n",
    "18 in num_lst"
   ]
  },
  {
   "cell_type": "code",
   "execution_count": 29,
   "id": "b37aa6dd-6df7-4bbc-a0bd-0d9cc99b433d",
   "metadata": {},
   "outputs": [
    {
     "name": "stdout",
     "output_type": "stream",
     "text": [
      "Peacock is a bird\n"
     ]
    }
   ],
   "source": [
    "animal_lst = ['Lion', 'Tiger', 'Elephant', 'Deer', 'Gorrila']\n",
    "\n",
    "if 'peacock' not in animal_lst:\n",
    "    print('Peacock is a bird')\n",
    "else:\n",
    "    print('Peacock in not an animal') "
   ]
  },
  {
   "cell_type": "code",
   "execution_count": 30,
   "id": "6472ef5e-3f7b-418c-9a1f-597490559556",
   "metadata": {},
   "outputs": [
    {
     "data": {
      "text/plain": [
       "5"
      ]
     },
     "execution_count": 30,
     "metadata": {},
     "output_type": "execute_result"
    }
   ],
   "source": [
    "max(num_lst)"
   ]
  },
  {
   "cell_type": "code",
   "execution_count": 31,
   "id": "7a45b45c-a634-4fad-a7e8-3b4bb77210a5",
   "metadata": {},
   "outputs": [],
   "source": [
    "alphabets = ['a', 'b', 'c', 'd', 'e', 'f', 'g', 'h', 'i', 'j', 'k', 'l', 'm', 'n', 'o', 'p', 'q', 'r', 's', 't', 'u', 'v', 'w', 'x', 'y', 'z']"
   ]
  },
  {
   "cell_type": "code",
   "execution_count": 32,
   "id": "0ae28c2b-71ad-488f-a399-28d899e3e62d",
   "metadata": {},
   "outputs": [
    {
     "data": {
      "text/plain": [
       "'z'"
      ]
     },
     "execution_count": 32,
     "metadata": {},
     "output_type": "execute_result"
    }
   ],
   "source": [
    "max(alphabets)"
   ]
  },
  {
   "cell_type": "code",
   "execution_count": 33,
   "id": "b4501325-8c62-4bf0-b311-6615fe05510d",
   "metadata": {},
   "outputs": [
    {
     "data": {
      "text/plain": [
       "'Deer'"
      ]
     },
     "execution_count": 33,
     "metadata": {},
     "output_type": "execute_result"
    }
   ],
   "source": [
    "min(animal_lst)"
   ]
  },
  {
   "cell_type": "code",
   "execution_count": 34,
   "id": "2040a5a3-39f0-4c08-b40d-75b54b318d48",
   "metadata": {},
   "outputs": [
    {
     "data": {
      "text/plain": [
       "'y'"
      ]
     },
     "execution_count": 34,
     "metadata": {},
     "output_type": "execute_result"
    }
   ],
   "source": [
    "alphabets.pop(24)"
   ]
  },
  {
   "cell_type": "code",
   "execution_count": 35,
   "id": "25bff307-9043-478e-b705-591d34412068",
   "metadata": {},
   "outputs": [
    {
     "data": {
      "text/plain": [
       "['a',\n",
       " 'b',\n",
       " 'c',\n",
       " 'd',\n",
       " 'e',\n",
       " 'f',\n",
       " 'g',\n",
       " 'h',\n",
       " 'i',\n",
       " 'j',\n",
       " 'k',\n",
       " 'l',\n",
       " 'm',\n",
       " 'n',\n",
       " 'o',\n",
       " 'p',\n",
       " 'q',\n",
       " 'r',\n",
       " 's',\n",
       " 't',\n",
       " 'u',\n",
       " 'v',\n",
       " 'w',\n",
       " 'x',\n",
       " 'z']"
      ]
     },
     "execution_count": 35,
     "metadata": {},
     "output_type": "execute_result"
    }
   ],
   "source": [
    "alphabets"
   ]
  },
  {
   "cell_type": "code",
   "execution_count": 36,
   "id": "e25fd8ee-45a6-4dbd-9e7a-fff7ba32b0ba",
   "metadata": {},
   "outputs": [
    {
     "name": "stdout",
     "output_type": "stream",
     "text": [
      "['u', 't', 'r', 'q', 'a']\n"
     ]
    }
   ],
   "source": [
    "alpha_lst = ['q', 'a', 'u', 't', 'r']\n",
    "alpha_lst.sort(reverse=True)\n",
    "print(alpha_lst)"
   ]
  },
  {
   "cell_type": "code",
   "execution_count": 37,
   "id": "39d4cbd1-636e-4157-879a-8f0874289e8a",
   "metadata": {},
   "outputs": [
    {
     "name": "stdout",
     "output_type": "stream",
     "text": [
      "['a', 'q', 'r', 't', 'u']\n"
     ]
    }
   ],
   "source": [
    "alpha_lst.reverse()\n",
    "print(alpha_lst)"
   ]
  },
  {
   "cell_type": "code",
   "execution_count": 38,
   "id": "b237b4e0-7de8-48de-b78e-c7cb21e80740",
   "metadata": {},
   "outputs": [
    {
     "name": "stdout",
     "output_type": "stream",
     "text": [
      "['a', 'q', 'r', 't', 'u', 'b', 'c']\n"
     ]
    }
   ],
   "source": [
    "# NESTED LIST\n",
    "alpha_lst.extend(['b', 'c'])\n",
    "print(alpha_lst)"
   ]
  },
  {
   "cell_type": "code",
   "execution_count": 39,
   "id": "0b038dab-8015-431e-b5d7-970565286eb6",
   "metadata": {},
   "outputs": [
    {
     "name": "stdout",
     "output_type": "stream",
     "text": [
      "[[1, 2, 3], [4, 5, 6], [7, 8, 9]]\n"
     ]
    }
   ],
   "source": [
    "lst1 = [1, 2, 3]\n",
    "lst2 = [4, 5, 6]\n",
    "lst3 = [7, 8, 9]\n",
    "\n",
    "matrix = [lst1, lst2, lst3]\n",
    "print(matrix)"
   ]
  },
  {
   "cell_type": "code",
   "execution_count": 40,
   "id": "711314ea-bfec-4f24-99f9-fe53114646d1",
   "metadata": {},
   "outputs": [
    {
     "name": "stdout",
     "output_type": "stream",
     "text": [
      "6\n"
     ]
    }
   ],
   "source": [
    "print(matrix[1][2])"
   ]
  },
  {
   "cell_type": "code",
   "execution_count": 41,
   "id": "46fcb181-6181-428f-a547-30de6fd7b62e",
   "metadata": {},
   "outputs": [
    {
     "data": {
      "text/plain": [
       "[0, 1, 2, 3, 4, 5, 6, 7, 8, 9, 10, 11, 12, 13, 14, 15, 16, 17, 18, 19, 20]"
      ]
     },
     "execution_count": 41,
     "metadata": {},
     "output_type": "execute_result"
    }
   ],
   "source": [
    "[i for i in range(21)]"
   ]
  },
  {
   "cell_type": "code",
   "execution_count": 42,
   "id": "040e5635-c7c4-403a-90a0-96d8c9ea8bad",
   "metadata": {},
   "outputs": [
    {
     "data": {
      "text/plain": [
       "[0,\n",
       " '-',\n",
       " 2,\n",
       " '-',\n",
       " 4,\n",
       " '-',\n",
       " 6,\n",
       " '-',\n",
       " 8,\n",
       " '-',\n",
       " 10,\n",
       " '-',\n",
       " 12,\n",
       " '-',\n",
       " 14,\n",
       " '-',\n",
       " 16,\n",
       " '-',\n",
       " 18,\n",
       " '-',\n",
       " 20]"
      ]
     },
     "execution_count": 42,
     "metadata": {},
     "output_type": "execute_result"
    }
   ],
   "source": [
    "[i if i%2 == 0 else '-' for i in range(21)]"
   ]
  },
  {
   "cell_type": "code",
   "execution_count": 47,
   "id": "13d060e7-17f5-4283-b4c6-abf8b3487a2e",
   "metadata": {},
   "outputs": [
    {
     "name": "stdout",
     "output_type": "stream",
     "text": [
      "Even sum is 30 and Odd sum is 25\n"
     ]
    }
   ],
   "source": [
    "### Assignment\n",
    "\n",
    "## ADD odd numbers to odd sum and even numbers to even sum\n",
    "lst = [1, 2, 3, 4, 5, 6, 7, 8, 9, 10]\n",
    "even_sum = sum([num for num in lst if num % 2 == 0])\n",
    "odd_sum = sum([num for num in lst if num % 2 != 0])\n",
    "print('Even sum is {} and Odd sum is {}'.format(even_sum, odd_sum))"
   ]
  },
  {
   "cell_type": "code",
   "execution_count": 48,
   "id": "abfd04ab-b3de-40eb-bdbe-cdaa2649bb5e",
   "metadata": {},
   "outputs": [
    {
     "data": {
      "text/plain": [
       "[1, 4, 9, 16, 25, 36, 49, 64, 81, 100]"
      ]
     },
     "execution_count": 48,
     "metadata": {},
     "output_type": "execute_result"
    }
   ],
   "source": [
    "nums = [1,2,3,4,5,6,7,8,9,10]\n",
    "\n",
    "[num ** 2 for num in nums] "
   ]
  },
  {
   "cell_type": "code",
   "execution_count": 49,
   "id": "49546163-b537-4691-bf7a-361218fa6fc9",
   "metadata": {},
   "outputs": [
    {
     "data": {
      "text/plain": [
       "[7, 4, 7, 6]"
      ]
     },
     "execution_count": 49,
     "metadata": {},
     "output_type": "execute_result"
    }
   ],
   "source": [
    "#CREATE POSITIVE NUMBERS FROM THE GIVEN LIST\n",
    "nums = [-1, 7, -9, 0, 4, 7, -2, 6, -6]\n",
    "\n",
    "[num for num in nums if num > 0]"
   ]
  },
  {
   "cell_type": "code",
   "execution_count": 50,
   "id": "b0573d96-dcbd-43bd-a9ab-764901c288fb",
   "metadata": {},
   "outputs": [
    {
     "data": {
      "text/plain": [
       "['a', 'b', 'g', 'o', 'g', 'p']"
      ]
     },
     "execution_count": 50,
     "metadata": {},
     "output_type": "execute_result"
    }
   ],
   "source": [
    "#CREATE A LIST OF ONLY FIRST CHARACTERS OF WORD FROM GIVEN STRING LIST\n",
    "fruits = ['apple', 'banana', 'guava', 'oranges', 'grapes', 'pineapple']\n",
    "[fruit[0] for fruit in fruits]"
   ]
  },
  {
   "cell_type": "code",
   "execution_count": 52,
   "id": "e023a724-31ed-437a-ad07-4732c2d09794",
   "metadata": {},
   "outputs": [
    {
     "data": {
      "text/plain": [
       "[32, 66, 93, 98, 96]"
      ]
     },
     "execution_count": 52,
     "metadata": {},
     "output_type": "execute_result"
    }
   ],
   "source": [
    "# CONVERT LIST OF CELSIUS TEMPRATURE TO FAHRENHEIT\n",
    "celsius_temp = [0, 19, 34, 37, 36]\n",
    "\n",
    "[int((9/5) * temp + 32) for temp in celsius_temp]"
   ]
  },
  {
   "cell_type": "code",
   "execution_count": 58,
   "id": "68ebefb1-1824-47e5-bd43-213f4de300a1",
   "metadata": {},
   "outputs": [
    {
     "data": {
      "text/plain": [
       "[1, 2, 3, 4, 5, 6, 7, 8, 9]"
      ]
     },
     "execution_count": 58,
     "metadata": {},
     "output_type": "execute_result"
    }
   ],
   "source": [
    "# FLATTEN A TO SINGLE LIST\n",
    "\n",
    "mat = [[1, 2, 3], [4, 5, 6], [7, 8, 9]]\n",
    "[num for submat in mat for num in submat]"
   ]
  },
  {
   "cell_type": "code",
   "execution_count": 64,
   "id": "f5a1e11d-a400-4c2c-978c-49bfb1e650a1",
   "metadata": {},
   "outputs": [
    {
     "data": {
      "text/plain": [
       "[2, 3, 5, 7]"
      ]
     },
     "execution_count": 64,
     "metadata": {},
     "output_type": "execute_result"
    }
   ],
   "source": [
    "## Assignment \n",
    "# Create a prime number from list using list comprehension and code\n",
    "import sympy\n",
    "lst = [1, 2, 3, 4, 5, 6, 7, 8, 9, 10]\n",
    "[num for num in lst if sympy.isprime(num)]"
   ]
  },
  {
   "cell_type": "code",
   "execution_count": 67,
   "id": "835a43c6-aa3e-4f92-927a-0fae81251088",
   "metadata": {},
   "outputs": [
    {
     "data": {
      "text/plain": [
       "[2, 3, 5, 7]"
      ]
     },
     "execution_count": 67,
     "metadata": {},
     "output_type": "execute_result"
    }
   ],
   "source": [
    "#Code\n",
    "prime_lst = []\n",
    "for num in lst:\n",
    "    cnt = 0\n",
    "    for i in range(1, num+1):\n",
    "        if num % i == 0:\n",
    "            cnt += 1\n",
    "    \n",
    "    if cnt == 2:\n",
    "        prime_lst.append(num)\n",
    "prime_lst"
   ]
  },
  {
   "cell_type": "code",
   "execution_count": 84,
   "id": "ee895664-83b3-4757-b433-fe9c85e93b7b",
   "metadata": {},
   "outputs": [
    {
     "data": {
      "text/plain": [
       "[(1, 2), (1, 3), (1, 4), (2, 3), (2, 4), (3, 4)]"
      ]
     },
     "execution_count": 84,
     "metadata": {},
     "output_type": "execute_result"
    }
   ],
   "source": [
    "# Create all the possible combinations of 2 numbers from the list\n",
    "lst = [1, 2, 3, 4]\n",
    "\n",
    "pairs = []\n",
    "\n",
    "for i in range(0, len(lst)):\n",
    "    for j in range(i+1, len(lst)):\n",
    "        pairs.append((lst[i], lst[j]))\n",
    "\n",
    "pairs"
   ]
  },
  {
   "cell_type": "code",
   "execution_count": null,
   "id": "bcd83e37-57a7-4d41-ba76-5d50dbd41137",
   "metadata": {},
   "outputs": [],
   "source": []
  }
 ],
 "metadata": {
  "kernelspec": {
   "display_name": "Python 3 (ipykernel)",
   "language": "python",
   "name": "python3"
  },
  "language_info": {
   "codemirror_mode": {
    "name": "ipython",
    "version": 3
   },
   "file_extension": ".py",
   "mimetype": "text/x-python",
   "name": "python",
   "nbconvert_exporter": "python",
   "pygments_lexer": "ipython3",
   "version": "3.10.8"
  }
 },
 "nbformat": 4,
 "nbformat_minor": 5
}

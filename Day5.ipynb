{
 "cells": [
  {
   "cell_type": "markdown",
   "id": "5ec72d95-4209-4297-9fde-dc15963e740f",
   "metadata": {},
   "source": [
    "### TUPLES"
   ]
  },
  {
   "cell_type": "code",
   "execution_count": 10,
   "id": "d58cdf7c-5c26-458e-83dd-201eefff0a91",
   "metadata": {},
   "outputs": [
    {
     "data": {
      "text/plain": [
       "tuple"
      ]
     },
     "execution_count": 10,
     "metadata": {},
     "output_type": "execute_result"
    }
   ],
   "source": [
    "t = ()\n",
    "type(t)"
   ]
  },
  {
   "cell_type": "code",
   "execution_count": 11,
   "id": "75a9d042-32af-4b22-8c71-7af4f8ef81a4",
   "metadata": {},
   "outputs": [],
   "source": [
    "t = (1, 2, 4, 5, 6, 'Ashutosh', 'Pandey')"
   ]
  },
  {
   "cell_type": "code",
   "execution_count": 12,
   "id": "0350027e-8f73-4df8-bfc4-805f4909ab01",
   "metadata": {},
   "outputs": [
    {
     "data": {
      "text/plain": [
       "tuple"
      ]
     },
     "execution_count": 12,
     "metadata": {},
     "output_type": "execute_result"
    }
   ],
   "source": [
    "type(t)"
   ]
  },
  {
   "cell_type": "code",
   "execution_count": 13,
   "id": "3307dbe8-81cf-4719-928a-6241f4ddf163",
   "metadata": {},
   "outputs": [
    {
     "data": {
      "text/plain": [
       "1"
      ]
     },
     "execution_count": 13,
     "metadata": {},
     "output_type": "execute_result"
    }
   ],
   "source": [
    "t[0]"
   ]
  },
  {
   "cell_type": "code",
   "execution_count": 14,
   "id": "1f7c305c-ab66-4b20-8c14-d343cba7cf84",
   "metadata": {},
   "outputs": [
    {
     "data": {
      "text/plain": [
       "'Ashutosh'"
      ]
     },
     "execution_count": 14,
     "metadata": {},
     "output_type": "execute_result"
    }
   ],
   "source": [
    "t[5]"
   ]
  },
  {
   "cell_type": "code",
   "execution_count": 16,
   "id": "62ba9003-2ae6-446e-85b4-6b65b6cdf98f",
   "metadata": {},
   "outputs": [
    {
     "data": {
      "text/plain": [
       "('Pandey', 'Ashutosh', 6, 5, 4, 2, 1)"
      ]
     },
     "execution_count": 16,
     "metadata": {},
     "output_type": "execute_result"
    }
   ],
   "source": [
    "t[::-1]"
   ]
  },
  {
   "cell_type": "code",
   "execution_count": 20,
   "id": "4f6c0842-fade-46e5-a393-34cc0a4c491f",
   "metadata": {},
   "outputs": [
    {
     "data": {
      "text/plain": [
       "1"
      ]
     },
     "execution_count": 20,
     "metadata": {},
     "output_type": "execute_result"
    }
   ],
   "source": [
    "t.count('Pandey')"
   ]
  },
  {
   "cell_type": "code",
   "execution_count": 21,
   "id": "9089e079-377b-496d-888d-0c9602fad0e9",
   "metadata": {},
   "outputs": [],
   "source": [
    "t = t[::-1]"
   ]
  },
  {
   "cell_type": "code",
   "execution_count": 22,
   "id": "09625b81-38ae-4422-b1a4-f15d047d3421",
   "metadata": {},
   "outputs": [
    {
     "name": "stdout",
     "output_type": "stream",
     "text": [
      "('Pandey', 'Ashutosh', 6, 5, 4, 2, 1)\n"
     ]
    }
   ],
   "source": [
    "print(t)"
   ]
  },
  {
   "cell_type": "code",
   "execution_count": 23,
   "id": "de17154d-f189-48b7-a1ce-2ffa1f725212",
   "metadata": {},
   "outputs": [
    {
     "data": {
      "text/plain": [
       "(6, 5, 4, 2, 1)"
      ]
     },
     "execution_count": 23,
     "metadata": {},
     "output_type": "execute_result"
    }
   ],
   "source": [
    "t[2:]"
   ]
  },
  {
   "cell_type": "code",
   "execution_count": 31,
   "id": "449f0e05-10ec-46dc-bd3c-fcba948fcc82",
   "metadata": {},
   "outputs": [],
   "source": [
    "t = (1, 5, 7, 9, 11, 'Nothing', None, True)"
   ]
  },
  {
   "cell_type": "code",
   "execution_count": 32,
   "id": "be5fc38a-5d82-40ad-a7b4-938eab873fc7",
   "metadata": {},
   "outputs": [
    {
     "name": "stdout",
     "output_type": "stream",
     "text": [
      "(1, 5, 7, 9, 11, 'Nothing', None, True)\n"
     ]
    }
   ],
   "source": [
    "print(t)"
   ]
  },
  {
   "cell_type": "code",
   "execution_count": 33,
   "id": "d4312b53-aee3-4eee-8577-ac44ab15e7ff",
   "metadata": {},
   "outputs": [
    {
     "data": {
      "text/plain": [
       "2"
      ]
     },
     "execution_count": 33,
     "metadata": {},
     "output_type": "execute_result"
    }
   ],
   "source": [
    "t.index(7)"
   ]
  },
  {
   "cell_type": "code",
   "execution_count": 34,
   "id": "7cde0f37-67f7-4cab-81fc-90b0259087d7",
   "metadata": {},
   "outputs": [
    {
     "ename": "ValueError",
     "evalue": "tuple.index(x): x not in tuple",
     "output_type": "error",
     "traceback": [
      "\u001b[0;31m---------------------------------------------------------------------------\u001b[0m",
      "\u001b[0;31mValueError\u001b[0m                                Traceback (most recent call last)",
      "Cell \u001b[0;32mIn[34], line 1\u001b[0m\n\u001b[0;32m----> 1\u001b[0m \u001b[43mt\u001b[49m\u001b[38;5;241;43m.\u001b[39;49m\u001b[43mindex\u001b[49m\u001b[43m(\u001b[49m\u001b[38;5;124;43m'\u001b[39;49m\u001b[38;5;124;43mAshutosh\u001b[39;49m\u001b[38;5;124;43m'\u001b[39;49m\u001b[43m)\u001b[49m\n",
      "\u001b[0;31mValueError\u001b[0m: tuple.index(x): x not in tuple"
     ]
    }
   ],
   "source": [
    "t.index('Ashutosh')"
   ]
  },
  {
   "cell_type": "code",
   "execution_count": 36,
   "id": "8170f198-d2aa-435d-a0b1-dd66683d3d84",
   "metadata": {},
   "outputs": [
    {
     "data": {
      "text/plain": [
       "2"
      ]
     },
     "execution_count": 36,
     "metadata": {},
     "output_type": "execute_result"
    }
   ],
   "source": [
    "t.count(True) # 1 is also counted as True"
   ]
  },
  {
   "cell_type": "code",
   "execution_count": 38,
   "id": "9f02834f-273e-4bdf-996d-b3de24360d0b",
   "metadata": {},
   "outputs": [
    {
     "data": {
      "text/plain": [
       "2"
      ]
     },
     "execution_count": 38,
     "metadata": {},
     "output_type": "execute_result"
    }
   ],
   "source": [
    "t.count(1) # True is counted as 1"
   ]
  },
  {
   "cell_type": "markdown",
   "id": "994dcab7-be51-41b5-b894-3a7b2658c6c5",
   "metadata": {},
   "source": [
    "#### Mutability and Immutability\n",
    "\n",
    "* cannot replace value at index i\n",
    "* item assignment is not possible\n"
   ]
  },
  {
   "cell_type": "code",
   "execution_count": 40,
   "id": "3a1513f5-ca39-4292-b700-daf51ff61b06",
   "metadata": {},
   "outputs": [
    {
     "name": "stdout",
     "output_type": "stream",
     "text": [
      "1  =  <class 'int'>\n",
      "5  =  <class 'int'>\n",
      "7  =  <class 'int'>\n",
      "9  =  <class 'int'>\n",
      "11  =  <class 'int'>\n",
      "Nothing  =  <class 'str'>\n",
      "None  =  <class 'NoneType'>\n",
      "True  =  <class 'bool'>\n"
     ]
    }
   ],
   "source": [
    "for i in t:\n",
    "    print(i, \" = \", type(i))"
   ]
  },
  {
   "cell_type": "code",
   "execution_count": 42,
   "id": "2d7c1933-eaae-4333-ae30-51d3c238b64a",
   "metadata": {},
   "outputs": [
    {
     "data": {
      "text/plain": [
       "(1, 5, 7, 9, 11, 'Nothing', None, True, 1, 5, 7, 9, 11, 'Nothing', None, True)"
      ]
     },
     "execution_count": 42,
     "metadata": {},
     "output_type": "execute_result"
    }
   ],
   "source": [
    "t * 2"
   ]
  },
  {
   "cell_type": "code",
   "execution_count": 45,
   "id": "36cb2d45-c93e-4a7e-a1fc-b2aad71353eb",
   "metadata": {},
   "outputs": [
    {
     "data": {
      "text/plain": [
       "7"
      ]
     },
     "execution_count": 45,
     "metadata": {},
     "output_type": "execute_result"
    }
   ],
   "source": [
    "tup = (1, 3, 5, 7, 0)\n",
    "max(tup)"
   ]
  },
  {
   "cell_type": "code",
   "execution_count": 46,
   "id": "55314d2f-d050-496f-9d77-c6273797a244",
   "metadata": {},
   "outputs": [
    {
     "data": {
      "text/plain": [
       "0"
      ]
     },
     "execution_count": 46,
     "metadata": {},
     "output_type": "execute_result"
    }
   ],
   "source": [
    "min(tup)"
   ]
  },
  {
   "cell_type": "code",
   "execution_count": 47,
   "id": "9a2c3257-2926-498d-99a1-683fa9e0ea11",
   "metadata": {},
   "outputs": [],
   "source": [
    "tup = (1, 3, 5, 7, 0, ['Ashutosh', 'Pandey'])"
   ]
  },
  {
   "cell_type": "code",
   "execution_count": 50,
   "id": "72628997-bf21-485f-b44d-e0ec0271c3ce",
   "metadata": {},
   "outputs": [
    {
     "name": "stdout",
     "output_type": "stream",
     "text": [
      "Ashutosh\n",
      "Virat\n"
     ]
    }
   ],
   "source": [
    "print(tup[5][0])\n",
    "tup[5][1] = 'Virat'\n",
    "print(tup[5][1])"
   ]
  },
  {
   "cell_type": "code",
   "execution_count": 53,
   "id": "dc530144-3a9c-4091-8d64-e8d12f1ee704",
   "metadata": {},
   "outputs": [
    {
     "data": {
      "text/plain": [
       "True"
      ]
     },
     "execution_count": 53,
     "metadata": {},
     "output_type": "execute_result"
    }
   ],
   "source": [
    "'Virat' in tup"
   ]
  },
  {
   "cell_type": "code",
   "execution_count": 54,
   "id": "2f8828cf-31e0-42d0-8490-41674dced85f",
   "metadata": {},
   "outputs": [
    {
     "data": {
      "text/plain": [
       "True"
      ]
     },
     "execution_count": 54,
     "metadata": {},
     "output_type": "execute_result"
    }
   ],
   "source": [
    "'Virat' in tup[5]"
   ]
  },
  {
   "cell_type": "markdown",
   "id": "93acb526-ffd4-4de8-b90e-6ccb74e9ab1b",
   "metadata": {},
   "source": [
    "### SET"
   ]
  },
  {
   "cell_type": "code",
   "execution_count": 61,
   "id": "729c2620-f00b-461f-a17e-0499fe8465ec",
   "metadata": {},
   "outputs": [],
   "source": [
    "s = {}"
   ]
  },
  {
   "cell_type": "code",
   "execution_count": 62,
   "id": "cf106789-b488-4148-964f-5127d2607cf4",
   "metadata": {},
   "outputs": [
    {
     "data": {
      "text/plain": [
       "dict"
      ]
     },
     "execution_count": 62,
     "metadata": {},
     "output_type": "execute_result"
    }
   ],
   "source": [
    "type(s)"
   ]
  },
  {
   "cell_type": "code",
   "execution_count": 65,
   "id": "7befaf9d-84be-4f46-a450-0863211c46d2",
   "metadata": {},
   "outputs": [],
   "source": [
    "s1 = {1, 2, 4, 5, 6, 8, 8, 6, 4}"
   ]
  },
  {
   "cell_type": "code",
   "execution_count": 66,
   "id": "be518697-5415-4c2f-b8e3-afd0d60d1a08",
   "metadata": {},
   "outputs": [
    {
     "data": {
      "text/plain": [
       "set"
      ]
     },
     "execution_count": 66,
     "metadata": {},
     "output_type": "execute_result"
    }
   ],
   "source": [
    "type(s1)"
   ]
  },
  {
   "cell_type": "code",
   "execution_count": 67,
   "id": "be145182-097c-4ce3-b048-b750bb4262d8",
   "metadata": {},
   "outputs": [
    {
     "name": "stdout",
     "output_type": "stream",
     "text": [
      "{1, 2, 4, 5, 6, 8}\n"
     ]
    }
   ],
   "source": [
    "print(s1)"
   ]
  },
  {
   "cell_type": "code",
   "execution_count": 69,
   "id": "00c0f195-0134-4232-8d14-edfcee9ca4c9",
   "metadata": {},
   "outputs": [
    {
     "data": {
      "text/plain": [
       "[1, 2, 4, 5, 6, 8]"
      ]
     },
     "execution_count": 69,
     "metadata": {},
     "output_type": "execute_result"
    }
   ],
   "source": [
    "# CONVERT s1 to LIST\n",
    "\n",
    "lst = list(s1)\n",
    "lst"
   ]
  },
  {
   "cell_type": "code",
   "execution_count": 70,
   "id": "9df2ab8d-a110-4220-bea9-f936364dcdfd",
   "metadata": {},
   "outputs": [
    {
     "data": {
      "text/plain": [
       "[4, 6, 7, 8, 4, 6, 7, 8]"
      ]
     },
     "execution_count": 70,
     "metadata": {},
     "output_type": "execute_result"
    }
   ],
   "source": [
    "lst = [4, 6, 7, 8, 4, 6, 7, 8]\n",
    "lst"
   ]
  },
  {
   "cell_type": "code",
   "execution_count": 72,
   "id": "d109c992-a3ae-4aec-a55d-9de537939f15",
   "metadata": {},
   "outputs": [
    {
     "data": {
      "text/plain": [
       "{4, 6, 7, 8}"
      ]
     },
     "execution_count": 72,
     "metadata": {},
     "output_type": "execute_result"
    }
   ],
   "source": [
    "# CONVERT LIST TO SET\n",
    "s =  set(lst)\n",
    "s"
   ]
  },
  {
   "cell_type": "code",
   "execution_count": 73,
   "id": "e8bc08c0-4c11-4b35-b777-2bcde18e0568",
   "metadata": {},
   "outputs": [
    {
     "ename": "TypeError",
     "evalue": "unhashable type: 'list'",
     "output_type": "error",
     "traceback": [
      "\u001b[0;31m---------------------------------------------------------------------------\u001b[0m",
      "\u001b[0;31mTypeError\u001b[0m                                 Traceback (most recent call last)",
      "Cell \u001b[0;32mIn[73], line 1\u001b[0m\n\u001b[0;32m----> 1\u001b[0m s \u001b[38;5;241m=\u001b[39m {\u001b[38;5;241m1\u001b[39m, \u001b[38;5;241m2\u001b[39m, \u001b[38;5;241m3\u001b[39m, \u001b[38;5;241m4\u001b[39m, [\u001b[38;5;241m1\u001b[39m, \u001b[38;5;241m2\u001b[39m, \u001b[38;5;241m3\u001b[39m, \u001b[38;5;241m4\u001b[39m]}\n",
      "\u001b[0;31mTypeError\u001b[0m: unhashable type: 'list'"
     ]
    }
   ],
   "source": [
    "s = {1, 2, 3, 4, [1, 2, 3, 4]}"
   ]
  },
  {
   "cell_type": "code",
   "execution_count": 74,
   "id": "a4299943-7000-456a-9f58-fbb855cfdf65",
   "metadata": {},
   "outputs": [],
   "source": [
    "s = {1, 2, 3, 4, (1, 2, 3, 4)}"
   ]
  },
  {
   "cell_type": "markdown",
   "id": "9010cbc1-8456-4ec6-aa79-ddc3d50ad845",
   "metadata": {},
   "source": [
    "* Set allows tuple because tuple is immutable\n",
    "* And does not allow list because list values item can be changed"
   ]
  },
  {
   "cell_type": "code",
   "execution_count": 75,
   "id": "985b08af-0df8-461b-97a8-0b7f1ecfccda",
   "metadata": {},
   "outputs": [
    {
     "name": "stdout",
     "output_type": "stream",
     "text": [
      "(1, 2, 3, 4) 1 2 3 4 "
     ]
    }
   ],
   "source": [
    "for i in s:\n",
    "    print(i, end=\" \")"
   ]
  },
  {
   "cell_type": "code",
   "execution_count": 77,
   "id": "2256f9a1-6ae3-44a5-8c8b-e4f4ff44e075",
   "metadata": {},
   "outputs": [
    {
     "data": {
      "text/plain": [
       "{(1, 2, 3, 4), 1, 2, 3, 4, 'Ashutosh'}"
      ]
     },
     "execution_count": 77,
     "metadata": {},
     "output_type": "execute_result"
    }
   ],
   "source": [
    "s.add('Ashutosh')\n",
    "s"
   ]
  },
  {
   "cell_type": "code",
   "execution_count": 78,
   "id": "7d0173e9-0d48-416d-84bc-3f9702d23bd0",
   "metadata": {},
   "outputs": [
    {
     "data": {
      "text/plain": [
       "6"
      ]
     },
     "execution_count": 78,
     "metadata": {},
     "output_type": "execute_result"
    }
   ],
   "source": [
    "len(s)"
   ]
  },
  {
   "cell_type": "code",
   "execution_count": 79,
   "id": "cecdd928-8f14-4f5a-945b-cf4df796a6cf",
   "metadata": {},
   "outputs": [
    {
     "data": {
      "text/plain": [
       "(1, 2, 3, 4)"
      ]
     },
     "execution_count": 79,
     "metadata": {},
     "output_type": "execute_result"
    }
   ],
   "source": [
    "s.pop()"
   ]
  },
  {
   "cell_type": "code",
   "execution_count": 80,
   "id": "96b2904b-5e75-488f-8735-14688f919e74",
   "metadata": {},
   "outputs": [
    {
     "data": {
      "text/plain": [
       "1"
      ]
     },
     "execution_count": 80,
     "metadata": {},
     "output_type": "execute_result"
    }
   ],
   "source": [
    "s.pop()"
   ]
  },
  {
   "cell_type": "code",
   "execution_count": 81,
   "id": "68e7de6a-a960-4f6b-9e1b-be225438d8b7",
   "metadata": {},
   "outputs": [
    {
     "ename": "TypeError",
     "evalue": "set.pop() takes no arguments (1 given)",
     "output_type": "error",
     "traceback": [
      "\u001b[0;31m---------------------------------------------------------------------------\u001b[0m",
      "\u001b[0;31mTypeError\u001b[0m                                 Traceback (most recent call last)",
      "Cell \u001b[0;32mIn[81], line 1\u001b[0m\n\u001b[0;32m----> 1\u001b[0m \u001b[43ms\u001b[49m\u001b[38;5;241;43m.\u001b[39;49m\u001b[43mpop\u001b[49m\u001b[43m(\u001b[49m\u001b[38;5;124;43m'\u001b[39;49m\u001b[38;5;124;43mAshutosh\u001b[39;49m\u001b[38;5;124;43m'\u001b[39;49m\u001b[43m)\u001b[49m\n",
      "\u001b[0;31mTypeError\u001b[0m: set.pop() takes no arguments (1 given)"
     ]
    }
   ],
   "source": [
    "s.pop('Ashutosh')"
   ]
  },
  {
   "cell_type": "code",
   "execution_count": 82,
   "id": "90f2a277-3643-4285-a268-6a99d1436ec7",
   "metadata": {},
   "outputs": [],
   "source": [
    "s1.clear()"
   ]
  },
  {
   "cell_type": "code",
   "execution_count": 83,
   "id": "5f817a39-5d89-469b-a104-f88e8642bf85",
   "metadata": {},
   "outputs": [
    {
     "name": "stdout",
     "output_type": "stream",
     "text": [
      "set()\n"
     ]
    }
   ],
   "source": [
    "print(s1)"
   ]
  },
  {
   "cell_type": "code",
   "execution_count": 84,
   "id": "1dce1f6c-5d65-4219-b74f-19b91d2363cc",
   "metadata": {},
   "outputs": [
    {
     "data": {
      "text/plain": [
       "0"
      ]
     },
     "execution_count": 84,
     "metadata": {},
     "output_type": "execute_result"
    }
   ],
   "source": [
    "len(s1)"
   ]
  },
  {
   "cell_type": "code",
   "execution_count": 85,
   "id": "99b9eec5-441c-4635-bf2d-83ce6e74da82",
   "metadata": {},
   "outputs": [
    {
     "data": {
      "text/plain": [
       "{5}"
      ]
     },
     "execution_count": 85,
     "metadata": {},
     "output_type": "execute_result"
    }
   ],
   "source": [
    "set1 = {1, 2, 3, 5}\n",
    "set2 = {1, 2, 3, 4}\n",
    "set1.difference(set2)"
   ]
  },
  {
   "cell_type": "code",
   "execution_count": 86,
   "id": "4a92aab8-4100-4da6-a0df-d52326492a64",
   "metadata": {},
   "outputs": [
    {
     "data": {
      "text/plain": [
       "{4}"
      ]
     },
     "execution_count": 86,
     "metadata": {},
     "output_type": "execute_result"
    }
   ],
   "source": [
    "set2.difference(set1)"
   ]
  },
  {
   "cell_type": "code",
   "execution_count": 87,
   "id": "a7388d4d-147a-4df9-bc81-7add69df6621",
   "metadata": {},
   "outputs": [
    {
     "data": {
      "text/plain": [
       "{1, 2, 3, 4, 5}"
      ]
     },
     "execution_count": 87,
     "metadata": {},
     "output_type": "execute_result"
    }
   ],
   "source": [
    "set1.union(set2)"
   ]
  },
  {
   "cell_type": "code",
   "execution_count": 89,
   "id": "652897b7-9c51-4232-a3ed-95a5bbffed71",
   "metadata": {},
   "outputs": [
    {
     "data": {
      "text/plain": [
       "{1, 2, 3, 4, 5}"
      ]
     },
     "execution_count": 89,
     "metadata": {},
     "output_type": "execute_result"
    }
   ],
   "source": [
    "set2.update(set1)\n",
    "set2"
   ]
  },
  {
   "cell_type": "code",
   "execution_count": 90,
   "id": "a33fe87f-367e-405a-a657-12184cd79b3b",
   "metadata": {},
   "outputs": [
    {
     "data": {
      "text/plain": [
       "True"
      ]
     },
     "execution_count": 90,
     "metadata": {},
     "output_type": "execute_result"
    }
   ],
   "source": [
    "set3 = {1, 2, 3, 4, 5, 7, 8, 9, 10}\n",
    "set3.issuperset(set2)"
   ]
  },
  {
   "cell_type": "code",
   "execution_count": 92,
   "id": "be12855f-da22-4291-b103-ebbf972c73ba",
   "metadata": {},
   "outputs": [
    {
     "data": {
      "text/plain": [
       "True"
      ]
     },
     "execution_count": 92,
     "metadata": {},
     "output_type": "execute_result"
    }
   ],
   "source": [
    "set2.issubset(set3)"
   ]
  },
  {
   "cell_type": "markdown",
   "id": "04d7fdc2-495b-4007-a4f2-9c9ed73e026e",
   "metadata": {},
   "source": [
    "### DICTIONARY"
   ]
  },
  {
   "cell_type": "code",
   "execution_count": 93,
   "id": "a2595a46-c509-4973-b510-9eb9def33856",
   "metadata": {},
   "outputs": [],
   "source": [
    "d = {}"
   ]
  },
  {
   "cell_type": "code",
   "execution_count": 94,
   "id": "d613171a-8164-4ce1-84be-a08dc6f1aed3",
   "metadata": {},
   "outputs": [
    {
     "data": {
      "text/plain": [
       "dict"
      ]
     },
     "execution_count": 94,
     "metadata": {},
     "output_type": "execute_result"
    }
   ],
   "source": [
    "type(d)"
   ]
  },
  {
   "cell_type": "code",
   "execution_count": 99,
   "id": "587fb405-23cf-4123-94d3-22d304350113",
   "metadata": {},
   "outputs": [],
   "source": [
    "d = {'Name': 'Ashutosh', 'Profession': 'Software Developer', 'Age': 25}"
   ]
  },
  {
   "cell_type": "code",
   "execution_count": 100,
   "id": "b090d32e-154d-4973-be6d-6a5a46079b0e",
   "metadata": {},
   "outputs": [
    {
     "data": {
      "text/plain": [
       "{'Name': 'Ashutosh', 'Profession': 'Software Developer', 'Age': 25}"
      ]
     },
     "execution_count": 100,
     "metadata": {},
     "output_type": "execute_result"
    }
   ],
   "source": [
    "d"
   ]
  },
  {
   "cell_type": "code",
   "execution_count": 103,
   "id": "dc7a51e8-795c-4bd4-8f49-202dbd6e379d",
   "metadata": {},
   "outputs": [
    {
     "data": {
      "text/plain": [
       "'Ashutosh'"
      ]
     },
     "execution_count": 103,
     "metadata": {},
     "output_type": "execute_result"
    }
   ],
   "source": [
    "d['Name']"
   ]
  },
  {
   "cell_type": "code",
   "execution_count": 104,
   "id": "29092242-3ffd-4772-b004-a6b262ddcab9",
   "metadata": {},
   "outputs": [
    {
     "data": {
      "text/plain": [
       "'Software Developer'"
      ]
     },
     "execution_count": 104,
     "metadata": {},
     "output_type": "execute_result"
    }
   ],
   "source": [
    "d['Profession']"
   ]
  },
  {
   "cell_type": "markdown",
   "id": "ebdb2dfe-30a7-49ea-a240-d2ee1e787707",
   "metadata": {},
   "source": [
    "* Dictionary has unique keys\n",
    "* Values can be repeated\n",
    "* If created with 2 same keys the latest value will be taken"
   ]
  },
  {
   "cell_type": "code",
   "execution_count": 105,
   "id": "79cabd72-4ec7-44ec-abc7-77b31d4450ca",
   "metadata": {},
   "outputs": [
    {
     "ename": "TypeError",
     "evalue": "unhashable type: 'list'",
     "output_type": "error",
     "traceback": [
      "\u001b[0;31m---------------------------------------------------------------------------\u001b[0m",
      "\u001b[0;31mTypeError\u001b[0m                                 Traceback (most recent call last)",
      "Cell \u001b[0;32mIn[105], line 1\u001b[0m\n\u001b[0;32m----> 1\u001b[0m d1 \u001b[38;5;241m=\u001b[39m {[\u001b[38;5;241m1\u001b[39m, \u001b[38;5;241m2\u001b[39m, \u001b[38;5;241m3\u001b[39m]: \u001b[38;5;124m'\u001b[39m\u001b[38;5;124mABC\u001b[39m\u001b[38;5;124m'\u001b[39m}\n",
      "\u001b[0;31mTypeError\u001b[0m: unhashable type: 'list'"
     ]
    }
   ],
   "source": [
    "d1 = {[1, 2, 3]: 'ABC'}"
   ]
  },
  {
   "cell_type": "code",
   "execution_count": 107,
   "id": "c6d54f14-248d-4b12-b99e-43c069cf3660",
   "metadata": {},
   "outputs": [
    {
     "ename": "TypeError",
     "evalue": "unhashable type: 'set'",
     "output_type": "error",
     "traceback": [
      "\u001b[0;31m---------------------------------------------------------------------------\u001b[0m",
      "\u001b[0;31mTypeError\u001b[0m                                 Traceback (most recent call last)",
      "Cell \u001b[0;32mIn[107], line 1\u001b[0m\n\u001b[0;32m----> 1\u001b[0m d2 \u001b[38;5;241m=\u001b[39m {{\u001b[38;5;241m1\u001b[39m, \u001b[38;5;241m2\u001b[39m, \u001b[38;5;241m3\u001b[39m}: \u001b[38;5;124m'\u001b[39m\u001b[38;5;124mabcd\u001b[39m\u001b[38;5;124m'\u001b[39m}\n",
      "\u001b[0;31mTypeError\u001b[0m: unhashable type: 'set'"
     ]
    }
   ],
   "source": [
    "d2 = {{1, 2, 3}: 'abcd'}"
   ]
  },
  {
   "cell_type": "code",
   "execution_count": 108,
   "id": "607343fd-8d23-47d7-a8b2-69d92c74cc43",
   "metadata": {},
   "outputs": [],
   "source": [
    "d3 = {(1, 2, 3): 'value'}"
   ]
  },
  {
   "cell_type": "code",
   "execution_count": 109,
   "id": "1dea5b5a-2580-4c1f-8e44-28c96040738c",
   "metadata": {},
   "outputs": [],
   "source": [
    "d4 = {'key': ['DSM', 'DS', 'DATA']}"
   ]
  },
  {
   "cell_type": "code",
   "execution_count": 110,
   "id": "81415a9b-46fe-4236-90da-3d3101e73ef8",
   "metadata": {},
   "outputs": [],
   "source": [
    "d5 = {'key': ('DSM', 'DS', 'DATA')}"
   ]
  },
  {
   "cell_type": "code",
   "execution_count": 111,
   "id": "8aadec5d-76e5-4285-a5b6-5f1d7f7e4fc6",
   "metadata": {},
   "outputs": [],
   "source": [
    "d6 = {'key': {1, 2, 3, 5, 2, 3, 4}}"
   ]
  },
  {
   "cell_type": "code",
   "execution_count": 112,
   "id": "08fa5d3f-84d9-4f45-b959-c4f2c7e10ef5",
   "metadata": {},
   "outputs": [
    {
     "data": {
      "text/plain": [
       "{1, 2, 3, 4, 5}"
      ]
     },
     "execution_count": 112,
     "metadata": {},
     "output_type": "execute_result"
    }
   ],
   "source": [
    "d6['key']"
   ]
  },
  {
   "cell_type": "code",
   "execution_count": 114,
   "id": "8d56d9e8-0125-404b-bf62-6819e5ce2553",
   "metadata": {},
   "outputs": [],
   "source": [
    "d7 = {'key': {'courses': ['DS', 'DSA', 'PYTHON', 'JAVA', 'GOLANG']}}"
   ]
  },
  {
   "cell_type": "code",
   "execution_count": 116,
   "id": "3a7f0fab-8eba-4d10-86a4-ed78500c1a6f",
   "metadata": {},
   "outputs": [
    {
     "data": {
      "text/plain": [
       "{}"
      ]
     },
     "execution_count": 116,
     "metadata": {},
     "output_type": "execute_result"
    }
   ],
   "source": [
    "d4.clear()\n",
    "d4"
   ]
  },
  {
   "cell_type": "code",
   "execution_count": 117,
   "id": "59b05c45-7eff-4991-b262-74ce30bed455",
   "metadata": {},
   "outputs": [
    {
     "data": {
      "text/plain": [
       "1"
      ]
     },
     "execution_count": 117,
     "metadata": {},
     "output_type": "execute_result"
    }
   ],
   "source": [
    "len(d7)"
   ]
  },
  {
   "cell_type": "code",
   "execution_count": 120,
   "id": "eceb61fe-59b4-4143-9561-d32b7382d196",
   "metadata": {},
   "outputs": [
    {
     "data": {
      "text/plain": [
       "dict_keys(['key'])"
      ]
     },
     "execution_count": 120,
     "metadata": {},
     "output_type": "execute_result"
    }
   ],
   "source": [
    "d7.keys()"
   ]
  },
  {
   "cell_type": "code",
   "execution_count": 121,
   "id": "2e06166a-96cb-4529-aea8-5635b996b83d",
   "metadata": {},
   "outputs": [
    {
     "data": {
      "text/plain": [
       "dict_values([{'courses': ['DS', 'DSA', 'PYTHON', 'JAVA', 'GOLANG']}])"
      ]
     },
     "execution_count": 121,
     "metadata": {},
     "output_type": "execute_result"
    }
   ],
   "source": [
    "d7.values()"
   ]
  },
  {
   "cell_type": "code",
   "execution_count": 123,
   "id": "f5501cf8-f207-401f-86df-3fb54aa69a79",
   "metadata": {},
   "outputs": [
    {
     "name": "stdout",
     "output_type": "stream",
     "text": [
      "dict_values([{'courses': ['DS', 'DSA', 'PYTHON', 'JAVA', 'GOLANG']}])\n"
     ]
    }
   ],
   "source": [
    "print(d7.values())"
   ]
  },
  {
   "cell_type": "code",
   "execution_count": 124,
   "id": "9e6c0428-902f-43c5-aa69-4cb43862817d",
   "metadata": {},
   "outputs": [
    {
     "data": {
      "text/plain": [
       "dict_items([('key', {'courses': ['DS', 'DSA', 'PYTHON', 'JAVA', 'GOLANG']})])"
      ]
     },
     "execution_count": 124,
     "metadata": {},
     "output_type": "execute_result"
    }
   ],
   "source": [
    "d7.items()"
   ]
  },
  {
   "cell_type": "code",
   "execution_count": 126,
   "id": "cfe70762-4b4d-480d-9d96-daa52da4add3",
   "metadata": {},
   "outputs": [
    {
     "name": "stdout",
     "output_type": "stream",
     "text": [
      "True\n"
     ]
    }
   ],
   "source": [
    "dict1 = {\"key1\":1, \"key2\":2}\n",
    "\n",
    "dict2 = {\"key2\":2, \"key1\":1}\n",
    "\n",
    "print(dict1 == dict2)"
   ]
  },
  {
   "cell_type": "code",
   "execution_count": 132,
   "id": "d87df028-8e96-46ac-9667-218b48c28e94",
   "metadata": {},
   "outputs": [
    {
     "data": {
      "text/plain": [
       "{1, 2, 3}"
      ]
     },
     "execution_count": 132,
     "metadata": {},
     "output_type": "execute_result"
    }
   ],
   "source": [
    "s = {1, 2, 3}\n",
    "s1 = s\n",
    "s1"
   ]
  },
  {
   "cell_type": "code",
   "execution_count": 135,
   "id": "0ed2df66-93ec-4b00-bd5e-6e26273e95d7",
   "metadata": {},
   "outputs": [
    {
     "name": "stdout",
     "output_type": "stream",
     "text": [
      "{1: 11, 2: 12, 3: 13, 4: 14, 5: 15, 6: 16, 7: 17, 8: 18, 9: 19, 10: 20}\n"
     ]
    }
   ],
   "source": [
    "d = {i : i + 10 for i in range(1, 11)}\n",
    "print(d)"
   ]
  },
  {
   "cell_type": "code",
   "execution_count": 137,
   "id": "9d9dcf5f-aec6-4ae8-8d7f-dac2d4e3012b",
   "metadata": {},
   "outputs": [
    {
     "data": {
      "text/plain": [
       "'NA'"
      ]
     },
     "execution_count": 137,
     "metadata": {},
     "output_type": "execute_result"
    }
   ],
   "source": [
    "d.get(12, 'NA')"
   ]
  },
  {
   "cell_type": "code",
   "execution_count": null,
   "id": "d0310420-fc40-4fd8-8534-dc1f34c91ac0",
   "metadata": {},
   "outputs": [],
   "source": []
  }
 ],
 "metadata": {
  "kernelspec": {
   "display_name": "Python 3 (ipykernel)",
   "language": "python",
   "name": "python3"
  },
  "language_info": {
   "codemirror_mode": {
    "name": "ipython",
    "version": 3
   },
   "file_extension": ".py",
   "mimetype": "text/x-python",
   "name": "python",
   "nbconvert_exporter": "python",
   "pygments_lexer": "ipython3",
   "version": "3.10.8"
  }
 },
 "nbformat": 4,
 "nbformat_minor": 5
}

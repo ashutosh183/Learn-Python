{
 "cells": [
  {
   "cell_type": "markdown",
   "id": "96bea100-eaaa-46d8-aaba-3d284ed8c96e",
   "metadata": {
    "tags": []
   },
   "source": [
    "## Day 1 Learning"
   ]
  },
  {
   "cell_type": "code",
   "execution_count": 5,
   "id": "c45ea64f-e825-4969-b7e9-78515f5bc8c7",
   "metadata": {},
   "outputs": [
    {
     "data": {
      "text/plain": [
       "10"
      ]
     },
     "execution_count": 5,
     "metadata": {},
     "output_type": "execute_result"
    }
   ],
   "source": [
    "a = 10\n",
    "a"
   ]
  },
  {
   "cell_type": "markdown",
   "id": "5fa1a71f-c393-44cf-849d-48c2877f1b3a",
   "metadata": {},
   "source": [
    "# Comments"
   ]
  },
  {
   "cell_type": "code",
   "execution_count": 6,
   "id": "a2fdcc69-d528-44ab-a629-2d5dc691dbf1",
   "metadata": {},
   "outputs": [
    {
     "name": "stdout",
     "output_type": "stream",
     "text": [
      "# is used to comment in Python\n"
     ]
    }
   ],
   "source": [
    "# This is a commented line\n",
    "print('# is used to comment in Python')"
   ]
  },
  {
   "cell_type": "code",
   "execution_count": 9,
   "id": "14826fad-9541-4115-b511-fa696ae8d6f2",
   "metadata": {},
   "outputs": [
    {
     "name": "stdout",
     "output_type": "stream",
     "text": [
      " ''' is used for multiline comments\n"
     ]
    }
   ],
   "source": [
    "'''\n",
    "Ashutosh is learning Python to become a data scientist.\n",
    "This is the code block for multiline comments\n",
    "'''\n",
    "\n",
    "print(\" ''' is used for multiline comments\")\n"
   ]
  },
  {
   "cell_type": "raw",
   "id": "ba16d16f-aaab-4c34-a841-3449813da569",
   "metadata": {},
   "source": [
    "What is Raw used for?\n",
    "\n",
    "Raw just keep the text as it is."
   ]
  },
  {
   "cell_type": "markdown",
   "id": "1ed6e4f8-55f0-4e36-be1e-3d69e41c3ea8",
   "metadata": {},
   "source": [
    "### Numbers"
   ]
  },
  {
   "cell_type": "code",
   "execution_count": 10,
   "id": "9858544f-b8dd-4133-922e-3c6f929169e9",
   "metadata": {},
   "outputs": [
    {
     "name": "stdout",
     "output_type": "stream",
     "text": [
      "4\n"
     ]
    }
   ],
   "source": [
    "print(1+3)"
   ]
  },
  {
   "cell_type": "code",
   "execution_count": 12,
   "id": "1f159e7c-3e81-4719-8f8f-6144cd6ea5a2",
   "metadata": {},
   "outputs": [
    {
     "name": "stdout",
     "output_type": "stream",
     "text": [
      "5\n"
     ]
    }
   ],
   "source": [
    "a = 5\n",
    "print(a)"
   ]
  },
  {
   "cell_type": "markdown",
   "id": "87a5f073-61ea-4a36-a6c5-ab0567224780",
   "metadata": {},
   "source": [
    "#### Print"
   ]
  },
  {
   "cell_type": "code",
   "execution_count": 13,
   "id": "ddda8d2f-906a-4c57-b997-ce3134832ef2",
   "metadata": {},
   "outputs": [
    {
     "name": "stdout",
     "output_type": "stream",
     "text": [
      "Hello, World!!\n"
     ]
    }
   ],
   "source": [
    "# print the values to a stream. It basically prints a \\n \n",
    "print('Hello, World!!')"
   ]
  },
  {
   "cell_type": "code",
   "execution_count": 16,
   "id": "0045aa9c-53d7-4c83-9a4f-a1666f51181e",
   "metadata": {},
   "outputs": [
    {
     "name": "stdout",
     "output_type": "stream",
     "text": [
      "My name is Ashutosh. \n",
      "I work in Jio HealthHub as a Software Developer\n"
     ]
    }
   ],
   "source": [
    "print('My name is Ashutosh. \\nI work in Jio HealthHub as a Software Developer')"
   ]
  },
  {
   "cell_type": "markdown",
   "id": "aedc8ad7-8c71-469e-bb1c-f953ae95f8f7",
   "metadata": {},
   "source": [
    "# Variables Assignment"
   ]
  },
  {
   "cell_type": "code",
   "execution_count": 17,
   "id": "c0a0e7b7-1283-452a-95e3-c0708cc1aeac",
   "metadata": {},
   "outputs": [],
   "source": [
    "name = 'Ashutosh'\n",
    "company = 'Jio HealthHub'"
   ]
  },
  {
   "cell_type": "code",
   "execution_count": 19,
   "id": "41fe4c3d-957f-40c3-99f8-4e881d7d4123",
   "metadata": {},
   "outputs": [
    {
     "name": "stdout",
     "output_type": "stream",
     "text": [
      "Ashutosh works in Jio HealthHub\n"
     ]
    }
   ],
   "source": [
    "print(name+\" works in \"+company)"
   ]
  },
  {
   "cell_type": "code",
   "execution_count": 20,
   "id": "1533ff6f-222b-4459-bd11-fc0b15eb9c86",
   "metadata": {},
   "outputs": [],
   "source": [
    "number = 10"
   ]
  },
  {
   "cell_type": "code",
   "execution_count": 21,
   "id": "67653688-b88f-4c6e-bfa0-9fd2b242aaff",
   "metadata": {},
   "outputs": [
    {
     "name": "stdout",
     "output_type": "stream",
     "text": [
      "20\n"
     ]
    }
   ],
   "source": [
    "print(number + 10)"
   ]
  },
  {
   "cell_type": "code",
   "execution_count": 24,
   "id": "4702bf7f-8b20-4ab4-9562-b9c8866329c8",
   "metadata": {},
   "outputs": [
    {
     "name": "stdout",
     "output_type": "stream",
     "text": [
      "Pandey\n"
     ]
    }
   ],
   "source": [
    "name = 'Pandey' #name gets overriden here\n",
    "print(name)"
   ]
  },
  {
   "cell_type": "code",
   "execution_count": 25,
   "id": "8919bb9a-ed6e-4387-b7e8-75f417c37532",
   "metadata": {},
   "outputs": [
    {
     "name": "stdout",
     "output_type": "stream",
     "text": [
      "30\n"
     ]
    }
   ],
   "source": [
    "number = 30\n",
    "print(number)"
   ]
  },
  {
   "cell_type": "markdown",
   "id": "30af8c2d-5ad0-4284-a3da-97cee43cabd8",
   "metadata": {},
   "source": [
    "### To check type of Variables"
   ]
  },
  {
   "cell_type": "code",
   "execution_count": 28,
   "id": "15ec1cd6-255b-4848-b97f-e721440dfbca",
   "metadata": {},
   "outputs": [
    {
     "data": {
      "text/plain": [
       "str"
      ]
     },
     "execution_count": 28,
     "metadata": {},
     "output_type": "execute_result"
    }
   ],
   "source": [
    "type('')"
   ]
  },
  {
   "cell_type": "code",
   "execution_count": 29,
   "id": "8a6abd7f-ce5c-4dff-b0e5-59a96db92e15",
   "metadata": {},
   "outputs": [
    {
     "data": {
      "text/plain": [
       "int"
      ]
     },
     "execution_count": 29,
     "metadata": {},
     "output_type": "execute_result"
    }
   ],
   "source": [
    "type(10)"
   ]
  },
  {
   "cell_type": "code",
   "execution_count": 30,
   "id": "4984b252-9156-4e07-86f2-902b757f5298",
   "metadata": {},
   "outputs": [
    {
     "data": {
      "text/plain": [
       "str"
      ]
     },
     "execution_count": 30,
     "metadata": {},
     "output_type": "execute_result"
    }
   ],
   "source": [
    "type(name)"
   ]
  },
  {
   "cell_type": "code",
   "execution_count": 31,
   "id": "976adfe1-006d-4b11-9d9e-4f25d535e6b0",
   "metadata": {},
   "outputs": [
    {
     "data": {
      "text/plain": [
       "float"
      ]
     },
     "execution_count": 31,
     "metadata": {},
     "output_type": "execute_result"
    }
   ],
   "source": [
    "type(0.8923)"
   ]
  },
  {
   "cell_type": "code",
   "execution_count": 33,
   "id": "11afbe07-6826-4e24-87fb-d506847286e6",
   "metadata": {},
   "outputs": [
    {
     "data": {
      "text/plain": [
       "float"
      ]
     },
     "execution_count": 33,
     "metadata": {},
     "output_type": "execute_result"
    }
   ],
   "source": [
    "num = 10.68482933468276382\n",
    "type(num)"
   ]
  },
  {
   "cell_type": "code",
   "execution_count": 35,
   "id": "6158336e-8a2f-480f-bbf5-4016d41cc9e6",
   "metadata": {},
   "outputs": [
    {
     "data": {
      "text/plain": [
       "(1+2j)"
      ]
     },
     "execution_count": 35,
     "metadata": {},
     "output_type": "execute_result"
    }
   ],
   "source": [
    "1 + 2j"
   ]
  },
  {
   "cell_type": "code",
   "execution_count": 36,
   "id": "6f1ca4aa-61cc-4cf1-9dc4-79e25530ffc8",
   "metadata": {},
   "outputs": [
    {
     "data": {
      "text/plain": [
       "complex"
      ]
     },
     "execution_count": 36,
     "metadata": {},
     "output_type": "execute_result"
    }
   ],
   "source": [
    "type(1 + 2j)"
   ]
  },
  {
   "cell_type": "markdown",
   "id": "754d6c12-c58c-45bc-becd-19e27aebaaab",
   "metadata": {},
   "source": [
    "##### How to write a variable name"
   ]
  },
  {
   "cell_type": "raw",
   "id": "326a70f9-ede7-4de0-97cd-c707af6715df",
   "metadata": {},
   "source": [
    "Don't start variable name with numbers\n",
    "Variables are case sensitive\n",
    "Variables name should not be reserved keyword "
   ]
  },
  {
   "cell_type": "code",
   "execution_count": 38,
   "id": "7108e3b0-bdba-4a58-9c46-1d049d3388c7",
   "metadata": {},
   "outputs": [
    {
     "data": {
      "text/plain": [
       "'\\nint, float, if, len, bool, complex, continue,\\nbreak and so on\\n'"
      ]
     },
     "execution_count": 38,
     "metadata": {},
     "output_type": "execute_result"
    }
   ],
   "source": [
    "# Reserved keywords\n",
    "\n",
    "'''\n",
    "int, float, if, len, bool, complex, continue,\n",
    "break and so on\n",
    "'''"
   ]
  },
  {
   "cell_type": "markdown",
   "id": "b56eea65-0f84-49ff-a540-9a5da60e1be6",
   "metadata": {},
   "source": [
    "## AND gate"
   ]
  },
  {
   "cell_type": "code",
   "execution_count": 51,
   "id": "10d3b0c5-ba5d-41f5-98a6-9ac23687d138",
   "metadata": {},
   "outputs": [
    {
     "name": "stdout",
     "output_type": "stream",
     "text": [
      "False\tFalse\tFalse\tTrue\n",
      "\n",
      "Can use 0 and 1 where 0 is false and 1 is true\n",
      "0\t0\t0\t1\t"
     ]
    }
   ],
   "source": [
    "print(True and False, end=\"\\t\")\n",
    "print(False and True, end=\"\\t\")\n",
    "print(False and False, end=\"\\t\")\n",
    "print(True and True, end=\"\\n\")\n",
    "print()\n",
    "print('Can use 0 and 1 where 0 is false and 1 is true')\n",
    "print(1 and 0, end=\"\\t\")\n",
    "print(0 and 1, end=\"\\t\")\n",
    "print(0 and 0, end=\"\\t\")\n",
    "print(1 and 1, end=\"\\t\")"
   ]
  },
  {
   "cell_type": "markdown",
   "id": "499d5156-383b-4dc7-a7e4-b1422931a8a3",
   "metadata": {},
   "source": [
    "### OR gate"
   ]
  },
  {
   "cell_type": "code",
   "execution_count": 52,
   "id": "155c7e0b-86be-4ca2-8185-4acfbf9a2c3c",
   "metadata": {},
   "outputs": [
    {
     "name": "stdout",
     "output_type": "stream",
     "text": [
      "True\tTrue\tFalse\tTrue\n",
      "\n",
      "Can use 0 and 1 where 0 is false and 1 is true\n",
      "1\t1\t0\t1\t"
     ]
    }
   ],
   "source": [
    "print(True or False, end=\"\\t\")\n",
    "print(False or True, end=\"\\t\")\n",
    "print(False or False, end=\"\\t\")\n",
    "print(True or True, end=\"\\n\")\n",
    "print()\n",
    "print('Can use 0 and 1 where 0 is false and 1 is true')\n",
    "print(1 or 0, end=\"\\t\")\n",
    "print(0 or 1, end=\"\\t\")\n",
    "print(0 or 0, end=\"\\t\")\n",
    "print(1 or 1, end=\"\\t\")"
   ]
  },
  {
   "cell_type": "markdown",
   "id": "db5ec966-12e6-4a91-bd02-ffa3257f3fd2",
   "metadata": {},
   "source": [
    "### NOT gate"
   ]
  },
  {
   "cell_type": "code",
   "execution_count": 54,
   "id": "356f2f74-3990-44dd-b9cc-57ae3eead147",
   "metadata": {},
   "outputs": [
    {
     "data": {
      "text/plain": [
       "False"
      ]
     },
     "execution_count": 54,
     "metadata": {},
     "output_type": "execute_result"
    }
   ],
   "source": [
    "not True"
   ]
  },
  {
   "cell_type": "code",
   "execution_count": 55,
   "id": "894992ec-e479-4561-bbff-08bec43d5070",
   "metadata": {},
   "outputs": [
    {
     "data": {
      "text/plain": [
       "True"
      ]
     },
     "execution_count": 55,
     "metadata": {},
     "output_type": "execute_result"
    }
   ],
   "source": [
    "not False"
   ]
  },
  {
   "cell_type": "code",
   "execution_count": 58,
   "id": "aff0aa87-fcce-413f-b781-734b05224d30",
   "metadata": {},
   "outputs": [
    {
     "data": {
      "text/plain": [
       "bool"
      ]
     },
     "execution_count": 58,
     "metadata": {},
     "output_type": "execute_result"
    }
   ],
   "source": [
    "type(not 0)"
   ]
  },
  {
   "cell_type": "code",
   "execution_count": 59,
   "id": "a4308901-7a44-40ac-8c18-358e69cb1167",
   "metadata": {},
   "outputs": [
    {
     "data": {
      "text/plain": [
       "False"
      ]
     },
     "execution_count": 59,
     "metadata": {},
     "output_type": "execute_result"
    }
   ],
   "source": [
    "bool(0)"
   ]
  },
  {
   "cell_type": "code",
   "execution_count": 60,
   "id": "bb193a40-9296-4750-9f6e-fe70dded9787",
   "metadata": {},
   "outputs": [
    {
     "data": {
      "text/plain": [
       "True"
      ]
     },
     "execution_count": 60,
     "metadata": {},
     "output_type": "execute_result"
    }
   ],
   "source": [
    "bool(1)"
   ]
  },
  {
   "cell_type": "code",
   "execution_count": 65,
   "id": "7921bc03-47da-4df7-8969-5794f67a32e7",
   "metadata": {},
   "outputs": [
    {
     "name": "stdout",
     "output_type": "stream",
     "text": [
      "It's False\n"
     ]
    }
   ],
   "source": [
    "a = 0\n",
    "\n",
    "if bool(a) == 1:\n",
    "    print('It\\'s True')\n",
    "else:\n",
    "    print('It\\'s False')"
   ]
  },
  {
   "cell_type": "markdown",
   "id": "a7a524e8-400d-4e9b-a99d-294266d9c5f4",
   "metadata": {},
   "source": [
    "### TypeCast"
   ]
  },
  {
   "cell_type": "code",
   "execution_count": 69,
   "id": "5a7ccb46-3ebc-4d5a-a087-4a7a8b525228",
   "metadata": {},
   "outputs": [
    {
     "name": "stdout",
     "output_type": "stream",
     "text": [
      "10\n"
     ]
    },
    {
     "data": {
      "text/plain": [
       "str"
      ]
     },
     "execution_count": 69,
     "metadata": {},
     "output_type": "execute_result"
    }
   ],
   "source": [
    "a = 10\n",
    "a = str(a)\n",
    "print(a)\n",
    "type(a)"
   ]
  },
  {
   "cell_type": "code",
   "execution_count": 72,
   "id": "5723ae54-c8c1-4d7a-817e-baa748457efd",
   "metadata": {},
   "outputs": [
    {
     "name": "stdout",
     "output_type": "stream",
     "text": [
      "1921\n"
     ]
    },
    {
     "data": {
      "text/plain": [
       "int"
      ]
     },
     "execution_count": 72,
     "metadata": {},
     "output_type": "execute_result"
    }
   ],
   "source": [
    "b = '1921'\n",
    "b = int(b)\n",
    "print(b)\n",
    "type(b)"
   ]
  },
  {
   "cell_type": "raw",
   "id": "323119ec-fedd-427d-9e29-f3682fe5e611",
   "metadata": {},
   "source": [
    "Python is Dynamic Typing\n",
    "We don't need to declare the type"
   ]
  },
  {
   "cell_type": "code",
   "execution_count": 73,
   "id": "89c8781f-b2e1-4548-b929-91e26ed43bc6",
   "metadata": {},
   "outputs": [
    {
     "name": "stdout",
     "output_type": "stream",
     "text": [
      "12324\n"
     ]
    }
   ],
   "source": [
    "a = '12324'\n",
    "print(a)"
   ]
  },
  {
   "cell_type": "code",
   "execution_count": 74,
   "id": "2b021c72-ff2b-4b4c-81b8-a584cc86c7c1",
   "metadata": {},
   "outputs": [
    {
     "data": {
      "text/plain": [
       "\"\\nint('abcd') -> this will give error\\nint('123') -> will convert 123 to int\\n\""
      ]
     },
     "execution_count": 74,
     "metadata": {},
     "output_type": "execute_result"
    }
   ],
   "source": [
    "#Cannot convert abcd to int -> it will expect integer value\n",
    "\n",
    "'''\n",
    "int('abcd') -> this will give error\n",
    "int('123') -> will convert 123 to int\n",
    "'''"
   ]
  },
  {
   "cell_type": "code",
   "execution_count": 76,
   "id": "4c8bf545-fbf4-4a93-9c88-82f7ac186aa9",
   "metadata": {},
   "outputs": [
    {
     "data": {
      "text/plain": [
       "1"
      ]
     },
     "execution_count": 76,
     "metadata": {},
     "output_type": "execute_result"
    }
   ],
   "source": [
    "int(1.6723) #ignores the values after decimal point"
   ]
  },
  {
   "cell_type": "code",
   "execution_count": 78,
   "id": "964da707-dd86-4534-b012-8cf2281e970d",
   "metadata": {},
   "outputs": [
    {
     "name": "stdout",
     "output_type": "stream",
     "text": [
      "11\n"
     ]
    }
   ],
   "source": [
    "print('1' + '1')"
   ]
  },
  {
   "cell_type": "code",
   "execution_count": 86,
   "id": "998478da-d26c-4f9f-918f-9bbf28ac84f4",
   "metadata": {},
   "outputs": [
    {
     "name": "stdin",
     "output_type": "stream",
     "text": [
      " 102\n"
     ]
    },
    {
     "name": "stdout",
     "output_type": "stream",
     "text": [
      "111111111111111111111111111111111111111111111111111111111111111111111111111111111111111111111111111111\n"
     ]
    }
   ],
   "source": [
    "n = int(input())\n",
    "print('1' * n) # prints 1 n times"
   ]
  },
  {
   "cell_type": "markdown",
   "id": "6ca3a8f2-37c4-43c9-bf05-d21b84b6430f",
   "metadata": {},
   "source": [
    "##### Quiz workout"
   ]
  },
  {
   "cell_type": "code",
   "execution_count": 87,
   "id": "9d654c84-4025-4dd4-a669-525731e49d49",
   "metadata": {},
   "outputs": [
    {
     "name": "stdout",
     "output_type": "stream",
     "text": [
      "(-1+3j)\n"
     ]
    }
   ],
   "source": [
    "num1= 23\n",
    "num2= 44\n",
    "num2= 2+3j\n",
    "num1= num2.imag\n",
    "print(num2-num1)"
   ]
  },
  {
   "cell_type": "code",
   "execution_count": 93,
   "id": "ac9ec1ed-5868-4961-a206-3fedc0cb7688",
   "metadata": {},
   "outputs": [
    {
     "data": {
      "text/plain": [
       "'Pwskills1'"
      ]
     },
     "execution_count": 93,
     "metadata": {},
     "output_type": "execute_result"
    }
   ],
   "source": [
    "'Pwskills' + str(1)"
   ]
  },
  {
   "cell_type": "code",
   "execution_count": 94,
   "id": "b9466b53-092c-4d33-a85c-5a6796c2ce6f",
   "metadata": {},
   "outputs": [
    {
     "data": {
      "text/plain": [
       "'\\nAshutosh\\n'"
      ]
     },
     "execution_count": 94,
     "metadata": {},
     "output_type": "execute_result"
    }
   ],
   "source": [
    "\"\"\"\n",
    "Ashutosh\n",
    "\"\"\""
   ]
  },
  {
   "cell_type": "code",
   "execution_count": null,
   "id": "3e68ed20-b11e-4c35-90b7-c8db1d87271b",
   "metadata": {},
   "outputs": [],
   "source": [
    "name = 'pwskills'\n",
    "name[0] = 'P'"
   ]
  },
  {
   "cell_type": "code",
   "execution_count": null,
   "id": "2962a5ea-3b6f-4eea-8918-07801767fbcc",
   "metadata": {},
   "outputs": [],
   "source": [
    "'pwskills'.upper().lower().isalnum()"
   ]
  }
 ],
 "metadata": {
  "kernelspec": {
   "display_name": "Python 3 (ipykernel)",
   "language": "python",
   "name": "python3"
  },
  "language_info": {
   "codemirror_mode": {
    "name": "ipython",
    "version": 3
   },
   "file_extension": ".py",
   "mimetype": "text/x-python",
   "name": "python",
   "nbconvert_exporter": "python",
   "pygments_lexer": "ipython3",
   "version": "3.10.8"
  }
 },
 "nbformat": 4,
 "nbformat_minor": 5
}
